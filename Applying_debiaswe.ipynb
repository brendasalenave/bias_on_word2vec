{
 "cells": [
  {
   "cell_type": "markdown",
   "metadata": {},
   "source": [
    "## Hands-on\n",
    "### Quantifying and Reducing Gender Stereotypes in Portuguese Word Embeddings\n",
    "\n",
    "Based in the following paper: Man is to Computer Programmer as Woman is to Homemaker? Debiasing Word Embeddings by Tolga Bolukbasi, Kai-Wei Chang, James Zou, Venkatesh Saligrama, and Adam Kalai. Proceedings of NIPS 2016."
   ]
  },
  {
   "cell_type": "code",
<<<<<<< HEAD
   "execution_count": null,
   "metadata": {
    "collapsed": false
   },
   "outputs": [
    {
     "name": "stderr",
     "output_type": "stream",
     "text": [
      "Using Theano backend.\n"
     ]
    }
   ],
=======
   "execution_count": 3,
   "metadata": {},
   "outputs": [],
>>>>>>> abf17f2b8fe9a58634e41943736e715739d81a17
   "source": [
    "from __future__ import print_function, division\n",
    "%matplotlib inline\n",
    "from matplotlib import pyplot as plt\n",
    "import json\n",
    "import random\n",
    "import numpy as np\n",
    "\n",
    "import debiaswe as dwe\n",
    "import debiaswe.we as we\n",
    "from debiaswe.we import WordEmbedding\n",
    "from debiaswe.data import load_professions_pt"
   ]
  },
  {
   "cell_type": "markdown",
   "metadata": {},
   "source": [
    "### Part1 \n",
    "#### Gender Bias in Word Embedding\n",
    "\n",
    "\n",
    "- #### Step 1: Load data"
   ]
  },
  {
   "cell_type": "code",
   "execution_count": null,
   "metadata": {
    "collapsed": false,
    "scrolled": false
   },
   "outputs": [
    {
     "name": "stdout",
     "output_type": "stream",
     "text": [
      "*** Reading data from ./embeddings/cbow_s300.txt\n"
     ]
    }
   ],
   "source": [
    "# load google news word2vec\n",
    "E = WordEmbedding('./embeddings/cbow_s300.txt', backend_gensim=True)\n"
   ]
  },
  {
   "cell_type": "code",
<<<<<<< HEAD
   "execution_count": null,
   "metadata": {
    "collapsed": false
   },
   "outputs": [],
=======
   "execution_count": 17,
   "metadata": {},
   "outputs": [
    {
     "name": "stdout",
     "output_type": "stream",
     "text": [
      "Loaded professions\n",
      "Format:\n",
      "word,\n",
      "definitional female -1.0 -> definitional male 1.0\n",
      "stereotypical female -1.0 -> stereotypical male 1.0\n"
     ]
    }
   ],
>>>>>>> abf17f2b8fe9a58634e41943736e715739d81a17
   "source": [
    "# load professions\n",
    "professions = load_professions_pt()\n",
    "profession_words = [p[0] for p in professions]"
   ]
  },
  {
   "cell_type": "markdown",
   "metadata": {},
   "source": [
    "- #### Step 2: Define Gender Direction"
   ]
  },
  {
   "cell_type": "code",
<<<<<<< HEAD
   "execution_count": null,
=======
   "execution_count": 19,
>>>>>>> abf17f2b8fe9a58634e41943736e715739d81a17
   "metadata": {
    "collapsed": false,
    "scrolled": true
   },
   "outputs": [],
   "source": [
    "# gender direction\n",
    "v_gender = E.diff('mulher', 'homem')"
   ]
  },
  {
   "cell_type": "markdown",
   "metadata": {},
   "source": [
    "- #### Step 3: Generating analogies of \"Homem: x :: Mulher : y\""
   ]
  },
  {
   "cell_type": "code",
   "execution_count": 5,
   "metadata": {
    "collapsed": false
   },
   "outputs": [
    {
     "data": {
      "text/plain": [
       "'a_gender = E.best_analogies_dist_thresh(v_gender)\\n\\nfor (a,b,c) in a_gender:\\n    print(a+\"-\"+b)'"
      ]
     },
     "execution_count": 5,
     "metadata": {},
     "output_type": "execute_result"
    }
   ],
   "source": [
    "\"\"\"a_gender = E.best_analogies_dist_thresh(v_gender)\n",
    "\n",
    "for (a,b,c) in a_gender:\n",
    "    print(a+\"-\"+b)\"\"\""
   ]
  },
  {
   "cell_type": "code",
<<<<<<< HEAD
   "execution_count": null,
   "metadata": {
    "collapsed": false
   },
   "outputs": [],
=======
   "execution_count": 10,
   "metadata": {},
   "outputs": [],
   "source": [
    "professions_pair=[]\n",
    "\n",
    "with open('./data/professions_analogies_pt.txt', \"r\") as f:\n",
    "    for line in f:\n",
    "        line=line.replace(\"\\n\",\"\").replace(\"(\",\"\").replace(\")\",\"\").replace(\"'\",\"\").replace(\" \",\"\")\n",
    "        male=line.split(\",\")[1]\n",
    "        fema=line.split(\",\")[0]\n",
    "        professions_pair.append([male,fema])"
   ]
  },
  {
   "cell_type": "code",
   "execution_count": 11,
   "metadata": {},
   "outputs": [
    {
     "name": "stdout",
     "output_type": "stream",
     "text": [
      "saved\n",
      "advogado=empresária-advogada\n",
      "arquiteto=empresária-arquiteta\n",
      "ator=empresária-atriz\n",
      "bibliotecário=aluna-bibliotecária\n",
      "biólogo=empresária-bióloga\n",
      "blogueiro=empresária-blogueira\n",
      "bombeiro=empresária-bombeira\n",
      "cabeleireiro=empresária-cabeleireira\n",
      "camareiro=dama-camareira\n",
      "cantor=empresária-cantora\n",
      "consultor=empresária-consultora\n",
      "contador=tia-contadora\n",
      "coordenador=empresária-coordenadora\n",
      "coreógrafo=empresária-coreógrafa\n",
      "costureiro=empresária-costureira\n",
      "cozinheiro=empresária-cozinheira\n",
      "dançarino=empresária-dançarina\n",
      "decorador=empresária-decoradora\n",
      "diagramador=empresária-diagramadora\n",
      "diretor=empresária-diretora\n",
      "empresário=empresária-empresária\n",
      "enfermeiro=empresária-enfermeira\n",
      "engenheiro=empresária-engenheira\n",
      "escritor=empresária-escritora\n",
      "estagiário=aluna-estagiária\n",
      "fotógrafo=empresária-fotógrafa\n",
      "garçom=garçonete-garçonete\n",
      "historiador=empresária-historiadora\n",
      "instrutor=aluna-instrutora\n",
      "juíz=padre-juíza\n",
      "matemático=empresária-matemática\n",
      "médico=empresária-médica\n",
      "pedagogo=empresária-pedagoga\n",
      "pesquisador=empresária-pesquisadora\n",
      "pintor=empresária-pintora\n",
      "professor=aluna-professora\n",
      "programador=empresária-programadora\n",
      "promotor=empresária-promotora\n",
      "psicopedagogo=empresária-psicopedagoga\n",
      "psicólogo=empresária-psicóloga\n",
      "publicitário=empresária-publicitária\n",
      "secretário=subsecretário-secretária\n",
      "senador=vereadora-senadora\n",
      "sociólogo=empresária-socióloga\n",
      "síndico=empresária-síndica\n",
      "tutor=tia-tutora\n",
      "vendedor=empresária-vendedora\n",
      "vereador=vereadora-vereadora\n",
      "veterinário=empresária-veterinária\n",
      "advogado=empresária-advogada\n",
      "arquiteto=empresária-arquiteta\n",
      "ator=empresária-atriz\n",
      "bibliotecário=aluna-bibliotecária\n",
      "biólogo=empresária-bióloga\n",
      "blogueiro=empresária-blogueira\n",
      "bombeiro=empresária-bombeira\n",
      "cabeleireiro=empresária-cabeleireira\n",
      "camareiro=dama-camareira\n",
      "cantor=empresária-cantora\n",
      "consultor=empresária-consultora\n",
      "contador=tia-contadora\n",
      "coordenador=empresária-coordenadora\n",
      "coreógrafo=empresária-coreógrafa\n",
      "costureiro=empresária-costureira\n",
      "cozinheiro=empresária-cozinheira\n",
      "dançarino=empresária-dançarina\n",
      "decorador=empresária-decoradora\n",
      "diagramador=empresária-diagramadora\n",
      "diretor=empresária-diretora\n",
      "empresário=empresária-empresária\n",
      "enfermeiro=empresária-enfermeira\n",
      "engenheiro=empresária-engenheira\n",
      "escritor=empresária-escritora\n",
      "estagiário=aluna-estagiária\n",
      "fotógrafo=empresária-fotógrafa\n",
      "garçom=garçonete-garçonete\n",
      "historiador=empresária-historiadora\n",
      "instrutor=aluna-instrutora\n",
      "juíz=padre-juíza\n",
      "matemático=empresária-matemática\n",
      "médico=empresária-médica\n",
      "pedagogo=empresária-pedagoga\n",
      "pesquisador=empresária-pesquisadora\n",
      "pintor=empresária-pintora\n",
      "professor=aluna-professora\n",
      "programador=empresária-programadora\n",
      "promotor=empresária-promotora\n",
      "psicopedagogo=empresária-psicopedagoga\n",
      "psicólogo=empresária-psicóloga\n",
      "publicitário=empresária-publicitária\n",
      "secretário=subsecretário-secretária\n",
      "senador=vereadora-senadora\n",
      "sociólogo=empresária-socióloga\n",
      "síndico=empresária-síndica\n",
      "tutor=tia-tutora\n",
      "vendedor=empresária-vendedora\n",
      "vereador=vereadora-vereadora\n",
      "veterinário=empresária-veterinária\n",
      "6\n",
      "98\n",
      "accuracy = 0.061224489795918366\n"
     ]
    },
    {
     "data": {
      "text/plain": [
       "0.061224489795918366"
      ]
     },
     "execution_count": 11,
     "metadata": {},
     "output_type": "execute_result"
    }
   ],
>>>>>>> abf17f2b8fe9a58634e41943736e715739d81a17
   "source": [
    "def evaluate_w2c(E,professions_pair):\n",
    "       \n",
    "   #def evaluete_tuples(E,professions_pair):\n",
    "    tmp_file='./data/temp.bin'\n",
    "    E.save_w2v(tmp_file)\n",
    "    print (\"saved\")\n",
    "    from gensim.models import KeyedVectors\n",
    "    tmp_file='./data/temp.bin'\n",
    "    word_vectors = KeyedVectors.load_word2vec_format(tmp_file, binary=True)\n",
    "    with open(\"./data/professions_analogies_pt.txt\", \"r\") as ins:\n",
    "        for line in ins:\n",
    "            line=line.replace(\"\\n\",\"\").replace(\"(\",\"\").replace(\")\",\"\").replace(\"'\",\"\").replace(\" \",\"\")\n",
    "            male=line.split(\",\")[1]\n",
    "            fema=line.split(\",\")[0]\n",
    "            professions_pair.append([male,fema])\n",
    "\n",
    "    len_= len(professions_pair)\n",
    "    acc = 0\n",
    "    for p in professions_pair:\n",
    "        male=p[0]\n",
    "        fema=p[1]\n",
    "        #word_vectors.\n",
    "        if (male in word_vectors.vocab and fema in word_vectors.vocab):\n",
    "            x = word_vectors.most_similar(positive=['mulher', male], negative=['homem'])[0][0]\n",
    "            print (\"[\" + male+ \"-\"+ fema+ \"]\" +\" correct=\"+fema+\" obtained=\"+x)\n",
    "            if x== fema:\n",
    "                acc+=1\n",
    "\n",
    "    out = acc/float(len_)\n",
    "    print (acc)\n",
    "    print (len_)\n",
    "    print (\"accuracy =\",out)\n",
    "    return out\n",
    "\n",
    "\n",
    "\n"
   ]
  },
  {
   "cell_type": "markdown",
   "metadata": {},
   "source": [
    "- #### Step 4: Analyzing gender bias in word vectors associated with professions"
   ]
  },
  {
   "cell_type": "code",
   "execution_count": 9,
   "metadata": {
    "collapsed": false
   },
   "outputs": [
    {
     "name": "stdout",
     "output_type": "stream",
     "text": [
      "saved\n",
      "[advogado-advogada] correct=advogada obtained=advogada\n",
      "[arquiteto-arquiteta] correct=arquiteta obtained=esposa\n",
      "[ator-atriz] correct=atriz obtained=atriz\n",
      "[biologo-biologa] correct=biologa obtained=esposa\n",
      "[blogueiro-blogueira] correct=blogueira obtained=dama-de-companhia\n",
      "[bombeiro-bombeira] correct=bombeira obtained=enfermeira\n",
      "[cabeleireiro-cabeleireira] correct=cabeleireira obtained=cabeleireira\n",
      "[camareiro-camareira] correct=camareira obtained=esposa\n",
      "[cantor-cantora] correct=cantora obtained=namorada\n",
      "[consultor-consultora] correct=consultora obtained=enfermeira\n",
      "[contador-contadora] correct=contadora obtained=esposa\n",
      "[coordenador-coordenadora] correct=coordenadora obtained=coordenadora\n",
      "[coreografo-coreografa] correct=coreografa obtained=esposa\n",
      "[costureiro-costureira] correct=costureira obtained=esposa\n",
      "[cozinheiro-cozinheira] correct=cozinheira obtained=enfermeira\n",
      "[decorador-decoradora] correct=decoradora obtained=esposa\n",
      "[diagramador-diagramadora] correct=diagramadora obtained=ex-namorada\n",
      "[diretor-diretora] correct=diretora obtained=diretora\n",
      "[empresario-empresaria] correct=empresaria obtained=irmã\n",
      "[enfermeiro-enfermeira] correct=enfermeira obtained=enfermeira\n",
      "[engenheiro-engenheira] correct=engenheira obtained=esposa\n",
      "[escritor-escritora] correct=escritora obtained=ensaísta\n",
      "[estagiario-estagiaria] correct=estagiaria obtained=esposa\n",
      "[historiador-historiadora] correct=historiadora obtained=esposa\n",
      "[instrutor-instrutora] correct=instrutora obtained=instrutora\n",
      "[juiz-juiza] correct=juiza obtained=esposa\n",
      "[pedagogo-pedagoga] correct=pedagoga obtained=enfermeira\n",
      "[pesquisador-pesquisadora] correct=pesquisadora obtained=enfermeira\n",
      "[pintor-pintora] correct=pintora obtained=pintora\n",
      "[professor-professora] correct=professora obtained=professora\n",
      "[programador-programadora] correct=programadora obtained=esposa\n",
      "[promotor-promotora] correct=promotora obtained=advogada\n",
      "[psicopedagogo-psicopedagoga] correct=psicopedagoga obtained=esposa\n",
      "[psicologo-psicologa] correct=psicologa obtained=esposa\n",
      "[publicitario-publicitaria] correct=publicitaria obtained=competiti-vidade\n",
      "[secretario-secretaria] correct=secretaria obtained=secretária\n",
      "[senador-senadora] correct=senadora obtained=namorada\n",
      "[sindico-sindica] correct=sindica obtained=esposa\n",
      "[tutor-tutora] correct=tutora obtained=esposa\n",
      "[vendedor-vendedora] correct=vendedora obtained=enfermeira\n",
      "[vereador-vereadora] correct=vereadora obtained=vereadora\n",
      "[veterinario-veterinaria] correct=veterinaria obtained=esposa\n",
      "[advogado-advogada] correct=advogada obtained=advogada\n",
      "[arquiteto-arquiteta] correct=arquiteta obtained=esposa\n",
      "[ator-atriz] correct=atriz obtained=atriz\n",
      "[biologo-biologa] correct=biologa obtained=esposa\n",
      "[blogueiro-blogueira] correct=blogueira obtained=dama-de-companhia\n",
      "[bombeiro-bombeira] correct=bombeira obtained=enfermeira\n",
      "[cabeleireiro-cabeleireira] correct=cabeleireira obtained=cabeleireira\n",
      "[camareiro-camareira] correct=camareira obtained=esposa\n",
      "[cantor-cantora] correct=cantora obtained=namorada\n",
      "[consultor-consultora] correct=consultora obtained=enfermeira\n",
      "[contador-contadora] correct=contadora obtained=esposa\n",
      "[coordenador-coordenadora] correct=coordenadora obtained=coordenadora\n",
      "[coreografo-coreografa] correct=coreografa obtained=esposa\n",
      "[costureiro-costureira] correct=costureira obtained=esposa\n",
      "[cozinheiro-cozinheira] correct=cozinheira obtained=enfermeira\n",
      "[decorador-decoradora] correct=decoradora obtained=esposa\n",
      "[diagramador-diagramadora] correct=diagramadora obtained=ex-namorada\n",
      "[diretor-diretora] correct=diretora obtained=diretora\n",
      "[empresario-empresaria] correct=empresaria obtained=irmã\n",
      "[enfermeiro-enfermeira] correct=enfermeira obtained=enfermeira\n",
      "[engenheiro-engenheira] correct=engenheira obtained=esposa\n",
      "[escritor-escritora] correct=escritora obtained=ensaísta\n",
      "[estagiario-estagiaria] correct=estagiaria obtained=esposa\n",
      "[historiador-historiadora] correct=historiadora obtained=esposa\n",
      "[instrutor-instrutora] correct=instrutora obtained=instrutora\n",
      "[juiz-juiza] correct=juiza obtained=esposa\n",
      "[pedagogo-pedagoga] correct=pedagoga obtained=enfermeira\n",
      "[pesquisador-pesquisadora] correct=pesquisadora obtained=enfermeira\n",
      "[pintor-pintora] correct=pintora obtained=pintora\n",
      "[professor-professora] correct=professora obtained=professora\n",
      "[programador-programadora] correct=programadora obtained=esposa\n",
      "[promotor-promotora] correct=promotora obtained=advogada\n",
      "[psicopedagogo-psicopedagoga] correct=psicopedagoga obtained=esposa\n",
      "[psicologo-psicologa] correct=psicologa obtained=esposa\n",
      "[publicitario-publicitaria] correct=publicitaria obtained=competiti-vidade\n",
      "[secretario-secretaria] correct=secretaria obtained=secretária\n",
      "[senador-senadora] correct=senadora obtained=namorada\n",
      "[sindico-sindica] correct=sindica obtained=esposa\n",
      "[tutor-tutora] correct=tutora obtained=esposa\n",
      "[vendedor-vendedora] correct=vendedora obtained=enfermeira\n",
      "[vereador-vereadora] correct=vereadora obtained=vereadora\n",
      "[veterinario-veterinaria] correct=veterinaria obtained=esposa\n",
      "20\n",
      "98\n",
      "accuracy = 0.204081632653\n"
     ]
    },
    {
     "data": {
      "text/plain": [
       "0.20408163265306123"
      ]
     },
     "execution_count": 9,
     "metadata": {},
     "output_type": "execute_result"
    }
   ],
   "source": [
    "evaluate_w2c(E,professions_pair)"
   ]
  },
  {
   "cell_type": "code",
   "execution_count": 8,
   "metadata": {
    "collapsed": false,
    "scrolled": true
   },
   "outputs": [
    {
     "data": {
      "text/plain": [
       "([(-0.09879555, 'ajudante'),\n",
       "  (-0.05029242, 'política'),\n",
       "  (-0.024776038, 'jornalismo'),\n",
       "  (-0.018601764, 'design'),\n",
       "  (-0.014257116, 'enfermagem'),\n",
       "  (-0.013866575, 'direito'),\n",
       "  (-0.012364276, 'motorista'),\n",
       "  (0.0020164233, 'policial'),\n",
       "  (0.026986431, 'arquitetura'),\n",
       "  (0.033040524, 'medicina'),\n",
       "  (0.03306193, 'antropologia'),\n",
       "  (0.034641955, 'artes'),\n",
       "  (0.037827827, 'computação'),\n",
       "  (0.04257617, 'arqueologia'),\n",
       "  (0.053356074, 'contabilidade'),\n",
       "  (0.05761321, 'psicologia'),\n",
       "  (0.078031376, 'engenharia')],\n",
       " [(-0.09879555, 'ajudante'),\n",
       "  (-0.05029242, 'política'),\n",
       "  (-0.024776038, 'jornalismo'),\n",
       "  (-0.018601764, 'design'),\n",
       "  (-0.014257116, 'enfermagem'),\n",
       "  (-0.013866575, 'direito'),\n",
       "  (-0.012364276, 'motorista'),\n",
       "  (0.0020164233, 'policial'),\n",
       "  (0.026986431, 'arquitetura'),\n",
       "  (0.033040524, 'medicina'),\n",
       "  (0.03306193, 'antropologia'),\n",
       "  (0.034641955, 'artes'),\n",
       "  (0.037827827, 'computação'),\n",
       "  (0.04257617, 'arqueologia'),\n",
       "  (0.053356074, 'contabilidade'),\n",
       "  (0.05761321, 'psicologia'),\n",
       "  (0.078031376, 'engenharia')])"
      ]
     },
     "execution_count": 8,
     "metadata": {},
     "output_type": "execute_result"
    }
   ],
   "source": [
    "# profession analysis gender\n",
    "sp = sorted([(E.v(w).dot(v_gender), w) for w in profession_words])\n",
    "\n",
    "sp[0:20], sp[-20:]"
   ]
  },
  {
   "cell_type": "markdown",
   "metadata": {},
   "source": [
    "### Part 2\n",
    "#### Debias\n",
    "\n",
    "- #### Step 5:"
   ]
  },
  {
   "cell_type": "code",
<<<<<<< HEAD
   "execution_count": 11,
=======
   "execution_count": 5,
>>>>>>> abf17f2b8fe9a58634e41943736e715739d81a17
   "metadata": {
    "collapsed": false
   },
   "outputs": [
    {
     "data": {
      "text/plain": [
       "array([ -1.41384184e-01,  -2.65982449e-02,   1.68587547e-02,\n",
       "         8.84379670e-02,  -4.41261567e-02,  -5.05169258e-02,\n",
       "        -5.97341359e-02,   2.73038279e-02,   3.33426856e-02,\n",
       "         5.45735769e-02,   2.54620309e-03,   6.14014454e-02,\n",
       "        -7.81432837e-02,  -5.34620415e-03,   2.71305139e-03,\n",
       "        -6.24283850e-02,  -1.46300927e-01,  -1.01584926e-01,\n",
       "        -1.05775520e-01,  -9.63168591e-02,  -2.88119279e-02,\n",
       "         5.77213755e-03,  -5.25285080e-02,   6.80342615e-02,\n",
       "         1.38266934e-02,   1.05625130e-01,   5.00140302e-02,\n",
       "         1.26344889e-01,   5.55940568e-02,   1.69826567e-01,\n",
       "         7.85833225e-03,  -7.21226409e-02,   1.61830187e-01,\n",
       "        -4.42912430e-02,  -6.05865903e-02,   4.15758416e-02,\n",
       "        -1.53976548e-02,   9.10170674e-02,   6.43142462e-02,\n",
       "         6.84079109e-03,   1.65156573e-02,  -3.77013125e-02,\n",
       "        -1.87175884e-03,   4.60648909e-02,   1.25453658e-02,\n",
       "         6.03515916e-02,   2.93400846e-02,  -2.28089020e-02,\n",
       "        -3.95895205e-02,   6.39970005e-02,   1.35423448e-02,\n",
       "         1.42091522e-02,  -6.77557895e-03,   1.66261059e-04,\n",
       "        -9.37818140e-02,   2.73026526e-02,   1.08131967e-01,\n",
       "        -8.71818960e-02,   1.41098658e-02,  -3.56427319e-02,\n",
       "         1.05566960e-02,   7.20063150e-02,   1.13805987e-01,\n",
       "        -1.68242678e-01,   3.01937144e-02,   1.53359668e-02,\n",
       "        -9.66893286e-02,  -4.64032851e-02,   1.09510228e-01,\n",
       "        -4.99006435e-02,   2.76757106e-02,  -1.18330292e-01,\n",
       "        -8.59281868e-02,   5.26230931e-02,  -1.06395339e-03,\n",
       "        -6.65232241e-02,  -1.40246786e-02,   8.22075754e-02,\n",
       "         1.09315179e-02,   2.89341249e-03,  -2.87960637e-02,\n",
       "        -9.10928547e-02,   3.05908592e-03,   1.22727687e-02,\n",
       "         1.04066506e-01,  -5.64641394e-02,  -4.04789895e-02,\n",
       "        -5.64758852e-03,  -9.92425829e-02,   3.55810411e-02,\n",
       "         3.17717274e-03,  -3.56080662e-03,  -3.17635015e-02,\n",
       "         8.65438804e-02,   3.89244780e-02,   1.36992065e-02,\n",
       "        -1.67958923e-02,   3.28397900e-02,   4.94805872e-02,\n",
       "        -3.60721871e-02,   6.03874288e-02,   1.52172931e-02,\n",
       "         3.48690003e-02,   1.03772752e-01,   6.18820153e-02,\n",
       "         4.90129367e-02,  -3.32604386e-02,   2.34551467e-02,\n",
       "         3.45635004e-02,   5.26166335e-02,   6.02417290e-02,\n",
       "         4.43605669e-02,  -9.44333524e-02,  -6.06553257e-02,\n",
       "        -7.42670000e-02,  -4.00818400e-02,   3.18868756e-02,\n",
       "        -8.02212581e-02,   8.58676657e-02,  -2.24035326e-02,\n",
       "         5.72584309e-02,   2.98805796e-02,   2.76363473e-02,\n",
       "        -1.75778475e-03,   3.73358913e-02,  -6.06764806e-03,\n",
       "        -4.83802054e-03,   1.45287497e-03,  -4.19195257e-02,\n",
       "        -9.13613383e-03,   2.07391586e-02,   7.49913752e-02,\n",
       "        -6.77557895e-03,  -4.67164218e-02,   2.55854032e-03,\n",
       "        -4.67786938e-02,  -4.17791158e-02,   4.76875491e-02,\n",
       "        -1.67212803e-02,   2.78825089e-02,   1.03889078e-01,\n",
       "         9.99599174e-02,   1.66178811e-02,   6.29835725e-02,\n",
       "         1.01266503e-01,  -2.53727306e-02,  -5.41535206e-02,\n",
       "         2.80846078e-02,  -2.35550217e-02,  -9.57317054e-02,\n",
       "         8.44112691e-03,   1.75514109e-02,  -6.48946874e-03,\n",
       "         2.26291306e-02,   2.23964807e-02,   1.40152788e-02,\n",
       "         4.05406766e-02,   1.32738603e-02,   1.49435215e-02,\n",
       "        -1.30710572e-01,  -1.24714598e-01,  -3.40394564e-02,\n",
       "        -4.86645550e-02,   2.15099510e-02,   6.67247325e-02,\n",
       "         3.58530544e-02,  -2.46407129e-02,  -1.75543483e-02,\n",
       "         4.91145765e-04,   1.59316864e-02,   4.24165465e-02,\n",
       "         5.17430268e-02,  -1.72588378e-02,   6.59286836e-03,\n",
       "         7.01057678e-03,   3.92105877e-02,   7.50201643e-02,\n",
       "         4.59720641e-02,  -9.64960456e-03,  -9.54679213e-03,\n",
       "        -8.33050236e-02,   2.38405447e-03,  -2.21509077e-02,\n",
       "        -1.59657616e-02,   1.99201908e-02,   9.69313756e-02,\n",
       "        -1.50127277e-01,   4.90499474e-03,   2.03801994e-03,\n",
       "         3.84914912e-02,  -1.43534988e-01,  -3.01790275e-02,\n",
       "         4.49504144e-02,   3.15426029e-02,   1.09972000e-01,\n",
       "         4.50332500e-02,  -6.88191550e-03,   9.02744681e-02,\n",
       "        -1.53759178e-02,  -7.88259581e-02,  -2.11621560e-02,\n",
       "         1.39212795e-02,  -6.92903250e-02,  -4.63239755e-03,\n",
       "         2.94881333e-02,   4.37190197e-02,   1.64909828e-02,\n",
       "        -3.46422270e-02,   1.12513505e-01,   9.43029299e-02,\n",
       "         2.58298013e-02,   1.01831675e-01,   3.93263213e-02,\n",
       "        -1.20183835e-02,  -6.38178140e-02,   4.67340462e-02,\n",
       "         3.03358883e-02,   6.72023669e-02,   1.96434800e-02,\n",
       "        -5.49724884e-02,  -2.14940906e-02,  -7.35520124e-02,\n",
       "         6.86869696e-02,   2.52035330e-03,  -1.95870805e-03,\n",
       "         2.91949734e-02,  -5.64247742e-02,  -4.17873412e-02,\n",
       "         2.07614843e-02,   6.63364008e-02,  -2.72004269e-02,\n",
       "         5.94421513e-02,  -7.39550367e-02,   9.19194520e-03,\n",
       "         3.92094115e-03,  -5.57462201e-02,  -8.93579796e-03,\n",
       "         3.26564908e-02,   5.39948978e-02,   2.48710103e-02,\n",
       "         1.27997529e-02,  -1.73704624e-02,   2.18606857e-03,\n",
       "        -5.98093346e-02,  -4.61488999e-02,   1.05975270e-01,\n",
       "         6.34653196e-02,   7.02115223e-02,   5.53755090e-02,\n",
       "        -4.29329537e-02,   4.40538973e-02,  -1.84303038e-02,\n",
       "        -1.47731472e-02,  -5.65128997e-02,  -5.42175546e-02,\n",
       "        -4.03497405e-02,   6.21281751e-02,   3.44700925e-02,\n",
       "         6.49281815e-02,  -5.63842356e-02,  -1.09391548e-01,\n",
       "         1.00595586e-01,  -2.87755020e-03,   2.85111293e-02,\n",
       "         6.68275449e-03,   4.22996320e-02,  -3.14192288e-02,\n",
       "         5.17524295e-02,  -4.03591394e-02,   2.65565328e-02,\n",
       "         2.76146103e-02,  -3.82899791e-02,  -9.75282714e-02,\n",
       "        -6.26739562e-02,   1.84767153e-02,   2.99716406e-02,\n",
       "        -2.67480575e-02,   1.18386103e-02,   1.39606418e-02,\n",
       "         3.07641719e-02,  -2.61023990e-03,  -1.14162609e-01,\n",
       "         5.07495739e-02,   3.06208227e-02,  -2.01305132e-02,\n",
       "         3.38426456e-02,  -5.06068114e-03,   7.38539826e-03,\n",
       "        -8.08058083e-02,   4.49392498e-02,   1.55521659e-02,\n",
       "         9.36190784e-02,   7.61311129e-02,   2.67421827e-02,\n",
       "         4.74284682e-03,  -3.34872119e-03,   7.41113126e-02,\n",
       "        -1.03644684e-01,  -4.47312780e-02,  -6.22069016e-02], dtype=float32)"
      ]
     },
     "execution_count": 11,
     "metadata": {},
     "output_type": "execute_result"
    }
   ],
   "source": [
    "E.v(\"sindica\")"
   ]
  },
  {
   "cell_type": "code",
   "execution_count": null,
   "metadata": {
    "collapsed": true,
    "scrolled": false
   },
   "outputs": [],
   "source": [
    "from debiaswe.debias import debias"
   ]
  },
  {
   "cell_type": "code",
<<<<<<< HEAD
   "execution_count": null,
   "metadata": {
    "collapsed": false
   },
   "outputs": [],
=======
   "execution_count": 6,
   "metadata": {},
   "outputs": [
    {
     "name": "stdout",
     "output_type": "stream",
     "text": [
      "definitional [['mulher', 'homem'], ['garota', 'garoto'], ['ela', 'ele'], ['mãe', 'pai'], ['filha', 'filho'], ['moça', 'moço'], ['fêmea', 'macho'], ['dela', 'dele'], ['própria', 'próprio']]\n",
      "gender specific 158 ['atriz', 'atrizes', 'tia', 'tias', 'bacharel', 'bacharela', 'bailarina', 'barbearia', 'barítono', 'barba']\n"
     ]
    }
   ],
>>>>>>> abf17f2b8fe9a58634e41943736e715739d81a17
   "source": [
    "with open('./data/definitional_pairs_pt.json', \"r\") as f:\n",
    "    defs = json.load(f)\n",
    "print(\"definitional\", defs)\n",
    "\n",
    "with open('./data/equalize_pairs_pt.json', \"r\") as f:\n",
    "    equalize_pairs = json.load(f)\n",
    "\n",
    "with open('./data/gender_specific_seed_pt.json', \"r\") as f:\n",
    "    gender_specific_words = json.load(f)\n",
    "print(\"gender specific\", len(gender_specific_words), gender_specific_words[:10])"
   ]
  },
  {
   "cell_type": "code",
<<<<<<< HEAD
   "execution_count": null,
=======
   "execution_count": 24,
>>>>>>> abf17f2b8fe9a58634e41943736e715739d81a17
   "metadata": {
    "collapsed": false,
    "scrolled": true
   },
<<<<<<< HEAD
   "outputs": [],
=======
   "outputs": [
    {
     "name": "stdout",
     "output_type": "stream",
     "text": [
      "934966 words of dimension 300 : </s>, ,, de, ., ..., indispô-la, microquimerismo, matro, sentar-se-ia\n",
      "{('PADRE', 'FREIRA'), ('PRÓPRIO', 'PRÓPRIA'), ('potro', 'potranca'), ('TIO', 'TIA'), ('HOMEM', 'MULHER'), ('Príncipe', 'Princesa'), ('Homem', 'Mulher'), ('Dele', 'Dela'), ('DELE', 'DELA'), ('príncipe', 'princesa'), ('IRMÃOS', 'IRMÃS'), ('testosterona', 'estrogênio'), ('filhos', 'filhas'), ('Irmão', 'Irmã'), ('IRMÃO', 'IRMÃ'), ('homem', 'mulher'), ('aluno', 'aluna'), ('Menino', 'Menina'), ('VÔ', 'VÓ'), ('Reis', 'Rainhas'), ('EX NAMORADA', 'EX NAMORADO'), ('próprio', 'própria'), ('menino', 'menina'), ('Vereador', 'Vereadora'), ('pais', 'mães'), ('Cavalheiros', 'Damas'), ('Ele', 'Ela'), ('Potro', 'Potranca'), ('Pais', 'Mães'), ('esposas', 'maridos'), ('netos', 'netas'), ('MENINO', 'MENINA'), ('sobrinho', 'sobrinha'), ('VEREADOR', 'VEREADORA'), ('PATERNIDADE', 'MATERNIDADE'), ('Neto', 'Neta'), ('filho', 'filha'), ('REIS', 'RAINHAS'), ('HOMENS', 'MULHERES'), ('ESPOSAS', 'MARIDOS'), ('MONASTÉRIO', 'CONVENTO'), ('Padre', 'Freira'), ('FILHOS', 'FILHAS'), ('reis', 'rainhas'), ('MENINOS', 'MENINAS'), ('meninos', 'meninas'), ('tio', 'tia'), ('irmão', 'irmã'), ('NETOS', 'NETAS'), ('paternidade', 'maternidade'), ('Rei', 'Rainha'), ('vô', 'vó'), ('Macho', 'Fêmea'), ('Filhos', 'Filhas'), ('NETO', 'NETA'), ('Câncer De Próstata', 'Câncer De Ovário'), ('Empresário', 'Empresária'), ('avô', 'avó'), ('EMPRESÁRIO', 'EMPRESÁRIA'), ('presidente', 'presidenta'), ('MACHOS', 'FÊMEAS'), ('IRMÃO GÊMEO', 'IRMÃ GÊMEA'), ('CAVALHEIROS', 'DAMAS'), ('TESTOSTERONA', 'ESTROGÊNIO'), ('Vô', 'Vó'), ('Sobrinho', 'Sobrinha'), ('empresário', 'empresária'), ('machos', 'fêmeas'), ('Netos', 'Netas'), ('PAIS', 'MÃES'), ('Esposas', 'Maridos'), ('Ex Namorada', 'Ex Namorado'), ('fraternidade', 'sororidade'), ('PRÍNCIPE', 'PRINCESA'), ('SOBRINHO', 'SOBRINHA'), ('FRATERNIDADE', 'SORORIDADE'), ('REI', 'RAINHA'), ('Avô', 'Avó'), ('Irmãos', 'Irmãs'), ('neto', 'neta'), ('ex namorada', 'ex namorado'), ('Meninos', 'Meninas'), ('Irmão Gêmeo', 'Irmã Gêmea'), ('FILHO', 'FILHA'), ('Filho', 'Filha'), ('homens', 'mulheres'), ('vereador', 'vereadora'), ('Aluno', 'Aluna'), ('CÂNCER DE PRÓSTATA', 'CÂNCER DE OVÁRIO'), ('câncer de próstata', 'câncer de ovário'), ('monastério', 'convento'), ('Homens', 'Mulheres'), ('Tio', 'Tia'), ('Monastério', 'Convento'), ('pai', 'mãe'), ('Pai', 'Mãe'), ('ALUNO', 'ALUNA'), ('PRESIDENTE', 'PRESIDENTA'), ('dele', 'dela'), ('cavalheiros', 'damas'), ('irmão gêmeo', 'irmã gêmea'), ('irmãos', 'irmãs'), ('cavalheiro', 'dama'), ('rei', 'rainha'), ('PAI', 'MÃE'), ('Presidente', 'Presidenta'), ('ELE', 'ELA'), ('macho', 'fêmea'), ('ele', 'ela'), ('Testosterona', 'Estrogênio'), ('AVÔ', 'AVÓ'), ('MACHO', 'FÊMEA'), ('Machos', 'Fêmeas'), ('padre', 'freira'), ('Fraternidade', 'Sororidade'), ('Paternidade', 'Maternidade'), ('Cavalheiro', 'Dama'), ('CAVALHEIRO', 'DAMA'), ('Próprio', 'Própria'), ('POTRO', 'POTRANCA')}\n",
      "934966 words of dimension 300 : </s>, ,, de, ., ..., indispô-la, microquimerismo, matro, sentar-se-ia\n",
      "saved\n",
      "assassina=assassino-assassina\n",
      "advogada=psicóloga-advogada\n",
      "administradora=proprietária-administradora\n",
      "ajudante=ex-ajudante-ajudante\n",
      "ator=actor-ator\n",
      "conhecida=conhecido-conhecida\n",
      "artista=pintor-artista\n",
      "arquiteto=arquitecto-arquiteto\n",
      "analista=economista-analista\n",
      "arqueólogo=historiador-arqueólogo\n",
      "arcebispo=bispo-arcebispo\n",
      "contador=mestremundo-contador\n",
      "antropólogo=geólogo-antropólogo\n",
      "embaixador=primeiro-ministro-embaixador\n",
      "aventureiro=empreendedor-aventureiro\n",
      "atriz=actriz-atriz\n",
      "vereadora=presidenta-vereadora\n",
      "advogado=economista-advogada\n",
      "arquiteto=arquitecto-arquiteta\n",
      "ator=actor-atriz\n",
      "bibliotecário=professor-bibliotecária\n",
      "biólogo=sociólogo-bióloga\n",
      "blogueiro=jornalista-blogueira\n",
      "bombeiro=socorrista-bombeira\n",
      "cabeleireiro=cozinheiro-cabeleireira\n",
      "camareiro=navarco-camareira\n",
      "cantor=músico-cantora\n",
      "consultor=assessor-consultora\n",
      "contador=mestremundo-contadora\n",
      "coordenador=superintendente-coordenadora\n",
      "coreógrafo=actor-coreógrafa\n",
      "costureiro=cozinheiro-costureira\n",
      "cozinheiro=garçom-cozinheira\n",
      "dançarino=bailarino-dançarina\n",
      "decorador=desenhista-decoradora\n",
      "diagramador=hsipaw-diagramadora\n",
      "diretor=director-diretora\n",
      "empresário=neto-empresária\n",
      "enfermeiro=dentista-enfermeira\n",
      "engenheiro=arquiteto-engenheira\n",
      "escritor=poeta-escritora\n",
      "estagiário=escriturário-estagiária\n",
      "fotógrafo=cineasta-fotógrafa\n",
      "garçom=cozinheiro-garçonete\n",
      "historiador=sociólogo-historiadora\n",
      "instrutor=instrutora-instrutora\n",
      "juíz=juiz-juíza\n",
      "matemático=filósofo-matemática\n",
      "médico=dentista-médica\n",
      "pedagogo=educador-pedagoga\n",
      "pesquisador=economista-pesquisadora\n",
      "pintor=escultor-pintora\n",
      "professor=ex-professor-professora\n",
      "programador=desenvolvedor-programadora\n",
      "promotor=procurador-promotora\n",
      "psicopedagogo=papagaio-de-bico-largo-psicopedagoga\n",
      "psicólogo=psiquiatra-psicóloga\n",
      "publicitário=jornalista-publicitária\n",
      "secretário=subsecretário-secretária\n",
      "senador=ex-senador-senadora\n",
      "sociólogo=historiador-socióloga\n",
      "síndico=porteiro-síndica\n",
      "tutor=preceptor-tutora\n",
      "vendedor=comerciante-vendedora\n",
      "vereador=presidente-vereadora\n",
      "veterinário=legista-veterinária\n",
      "1\n",
      "66\n",
      "accuracy = 0.015151515151515152\n"
     ]
    },
    {
     "data": {
      "text/plain": [
       "0.015151515151515152"
      ]
     },
     "execution_count": 24,
     "metadata": {},
     "output_type": "execute_result"
    }
   ],
>>>>>>> abf17f2b8fe9a58634e41943736e715739d81a17
   "source": [
    "E_new = debias(E, gender_specific_words, defs, equalize_pairs)\n",
    "\n",
    "#sp_debiased = sorted([(E.v(w).dot(v_gender), w) for w in profession_words])\n",
    "\n",
<<<<<<< HEAD
    "#sp_debiased[0:20], sp_debiased[-20:]"
   ]
  },
  {
   "cell_type": "code",
   "execution_count": null,
   "metadata": {
    "collapsed": false
   },
   "outputs": [],
   "source": [
    "evaluate_w2c(E_new,professions_pair)"
   ]
=======
    "male, female = sp_debiased[0:20], sp_debiased[-20:]\n",
    "debiased_pairs = []\n",
    "for i, j in zip(male, female):\n",
    "    debiased_pairs.append([i[1],j[1]])\n",
    "\n",
    "evaluate_w2c(E,debiased_pairs)"
   ]
>>>>>>> abf17f2b8fe9a58634e41943736e715739d81a17
  }
 ],
 "metadata": {
  "kernelspec": {
   "display_name": "Python 2",
   "language": "python",
<<<<<<< HEAD
   "name": "python2"
=======
   "name": "python3"
>>>>>>> abf17f2b8fe9a58634e41943736e715739d81a17
  },
  "language_info": {
   "codemirror_mode": {
    "name": "ipython",
<<<<<<< HEAD
    "version": 2
=======
    "version": 3
>>>>>>> abf17f2b8fe9a58634e41943736e715739d81a17
   },
   "file_extension": ".py",
   "mimetype": "text/x-python",
   "name": "python",
   "nbconvert_exporter": "python",
<<<<<<< HEAD
   "pygments_lexer": "ipython2",
   "version": "2.7.11"
=======
   "pygments_lexer": "ipython3",
   "version": "3.6.4"
>>>>>>> abf17f2b8fe9a58634e41943736e715739d81a17
  }
 },
 "nbformat": 4,
 "nbformat_minor": 2
}
