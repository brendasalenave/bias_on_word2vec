{
 "cells": [
  {
   "cell_type": "markdown",
   "metadata": {},
   "source": [
    "## Hands-on\n",
    "### Quantifying and Reducing Gender Stereotypes in Portuguese Word Embeddings\n",
    "\n",
    "Based in the following paper: Man is to Computer Programmer as Woman is to Homemaker? Debiasing Word Embeddings by Tolga Bolukbasi, Kai-Wei Chang, James Zou, Venkatesh Saligrama, and Adam Kalai. Proceedings of NIPS 2016."
   ]
  },
  {
   "cell_type": "code",
   "execution_count": 3,
   "metadata": {},
   "outputs": [],
   "source": [
    "from __future__ import print_function, division\n",
    "%matplotlib inline\n",
    "from matplotlib import pyplot as plt\n",
    "import json\n",
    "import random\n",
    "import numpy as np\n",
    "\n",
    "import debiaswe as dwe\n",
    "import debiaswe.we as we\n",
    "from debiaswe.we import WordEmbedding\n",
    "from debiaswe.data import load_professions_pt"
   ]
  },
  {
   "cell_type": "markdown",
   "metadata": {},
   "source": [
    "### Part1 \n",
    "#### Gender Bias in Word Embedding\n",
    "\n",
    "\n",
    "- #### Step 1: Load data"
   ]
  },
  {
   "cell_type": "code",
   "execution_count": 4,
   "metadata": {
    "scrolled": false
   },
   "outputs": [
    {
     "name": "stdout",
     "output_type": "stream",
     "text": [
      "*** Reading data from ./embeddings/cbow_s300.txt\n",
      "(934966, 300)\n",
      "934966 words of dimension 300 : </s>, ,, de, ., ..., indispô-la, microquimerismo, matro, sentar-se-ia\n",
      "934966 words of dimension 300 : </s>, ,, de, ., ..., indispô-la, microquimerismo, matro, sentar-se-ia\n"
     ]
    }
   ],
   "source": [
    "# load google news word2vec\n",
    "E = WordEmbedding('./embeddings/cbow_s300.txt')\n"
   ]
  },
  {
   "cell_type": "code",
   "execution_count": 17,
   "metadata": {},
   "outputs": [
    {
     "name": "stdout",
     "output_type": "stream",
     "text": [
      "Loaded professions\n",
      "Format:\n",
      "word,\n",
      "definitional female -1.0 -> definitional male 1.0\n",
      "stereotypical female -1.0 -> stereotypical male 1.0\n"
     ]
    }
   ],
   "source": [
    "# load professions\n",
    "professions = load_professions_pt()\n",
    "profession_words = [p[0] for p in professions]"
   ]
  },
  {
   "cell_type": "markdown",
   "metadata": {},
   "source": [
    "- #### Step 2: Define Gender Direction"
   ]
  },
  {
   "cell_type": "code",
   "execution_count": 19,
   "metadata": {
    "scrolled": true
   },
   "outputs": [],
   "source": [
    "# gender direction\n",
    "v_gender = E.diff('ela', 'ele')"
   ]
  },
  {
   "cell_type": "markdown",
   "metadata": {},
   "source": [
    "- #### Step 3: Generating analogies of \"Homem: x :: Mulher : y\""
   ]
  },
  {
   "cell_type": "code",
   "execution_count": 6,
   "metadata": {},
   "outputs": [
    {
     "data": {
      "text/plain": [
       "'a_gender = E.best_analogies_dist_thresh(v_gender)\\n\\nfor (a,b,c) in a_gender:\\n    print(a+\"-\"+b)'"
      ]
     },
     "execution_count": 6,
     "metadata": {},
     "output_type": "execute_result"
    }
   ],
   "source": [
    "\"\"\"a_gender = E.best_analogies_dist_thresh(v_gender)\n",
    "\n",
    "for (a,b,c) in a_gender:\n",
    "    print(a+\"-\"+b)\"\"\""
   ]
  },
  {
   "cell_type": "code",
   "execution_count": 10,
   "metadata": {},
   "outputs": [],
   "source": [
    "professions_pair=[]\n",
    "\n",
    "with open('./data/professions_analogies_pt.txt', \"r\") as f:\n",
    "    for line in f:\n",
    "        line=line.replace(\"\\n\",\"\").replace(\"(\",\"\").replace(\")\",\"\").replace(\"'\",\"\").replace(\" \",\"\")\n",
    "        male=line.split(\",\")[1]\n",
    "        fema=line.split(\",\")[0]\n",
    "        professions_pair.append([male,fema])"
   ]
  },
  {
   "cell_type": "code",
   "execution_count": 11,
   "metadata": {},
   "outputs": [
    {
     "name": "stdout",
     "output_type": "stream",
     "text": [
      "saved\n",
      "advogado=empresária-advogada\n",
      "arquiteto=empresária-arquiteta\n",
      "ator=empresária-atriz\n",
      "bibliotecário=aluna-bibliotecária\n",
      "biólogo=empresária-bióloga\n",
      "blogueiro=empresária-blogueira\n",
      "bombeiro=empresária-bombeira\n",
      "cabeleireiro=empresária-cabeleireira\n",
      "camareiro=dama-camareira\n",
      "cantor=empresária-cantora\n",
      "consultor=empresária-consultora\n",
      "contador=tia-contadora\n",
      "coordenador=empresária-coordenadora\n",
      "coreógrafo=empresária-coreógrafa\n",
      "costureiro=empresária-costureira\n",
      "cozinheiro=empresária-cozinheira\n",
      "dançarino=empresária-dançarina\n",
      "decorador=empresária-decoradora\n",
      "diagramador=empresária-diagramadora\n",
      "diretor=empresária-diretora\n",
      "empresário=empresária-empresária\n",
      "enfermeiro=empresária-enfermeira\n",
      "engenheiro=empresária-engenheira\n",
      "escritor=empresária-escritora\n",
      "estagiário=aluna-estagiária\n",
      "fotógrafo=empresária-fotógrafa\n",
      "garçom=garçonete-garçonete\n",
      "historiador=empresária-historiadora\n",
      "instrutor=aluna-instrutora\n",
      "juíz=padre-juíza\n",
      "matemático=empresária-matemática\n",
      "médico=empresária-médica\n",
      "pedagogo=empresária-pedagoga\n",
      "pesquisador=empresária-pesquisadora\n",
      "pintor=empresária-pintora\n",
      "professor=aluna-professora\n",
      "programador=empresária-programadora\n",
      "promotor=empresária-promotora\n",
      "psicopedagogo=empresária-psicopedagoga\n",
      "psicólogo=empresária-psicóloga\n",
      "publicitário=empresária-publicitária\n",
      "secretário=subsecretário-secretária\n",
      "senador=vereadora-senadora\n",
      "sociólogo=empresária-socióloga\n",
      "síndico=empresária-síndica\n",
      "tutor=tia-tutora\n",
      "vendedor=empresária-vendedora\n",
      "vereador=vereadora-vereadora\n",
      "veterinário=empresária-veterinária\n",
      "advogado=empresária-advogada\n",
      "arquiteto=empresária-arquiteta\n",
      "ator=empresária-atriz\n",
      "bibliotecário=aluna-bibliotecária\n",
      "biólogo=empresária-bióloga\n",
      "blogueiro=empresária-blogueira\n",
      "bombeiro=empresária-bombeira\n",
      "cabeleireiro=empresária-cabeleireira\n",
      "camareiro=dama-camareira\n",
      "cantor=empresária-cantora\n",
      "consultor=empresária-consultora\n",
      "contador=tia-contadora\n",
      "coordenador=empresária-coordenadora\n",
      "coreógrafo=empresária-coreógrafa\n",
      "costureiro=empresária-costureira\n",
      "cozinheiro=empresária-cozinheira\n",
      "dançarino=empresária-dançarina\n",
      "decorador=empresária-decoradora\n",
      "diagramador=empresária-diagramadora\n",
      "diretor=empresária-diretora\n",
      "empresário=empresária-empresária\n",
      "enfermeiro=empresária-enfermeira\n",
      "engenheiro=empresária-engenheira\n",
      "escritor=empresária-escritora\n",
      "estagiário=aluna-estagiária\n",
      "fotógrafo=empresária-fotógrafa\n",
      "garçom=garçonete-garçonete\n",
      "historiador=empresária-historiadora\n",
      "instrutor=aluna-instrutora\n",
      "juíz=padre-juíza\n",
      "matemático=empresária-matemática\n",
      "médico=empresária-médica\n",
      "pedagogo=empresária-pedagoga\n",
      "pesquisador=empresária-pesquisadora\n",
      "pintor=empresária-pintora\n",
      "professor=aluna-professora\n",
      "programador=empresária-programadora\n",
      "promotor=empresária-promotora\n",
      "psicopedagogo=empresária-psicopedagoga\n",
      "psicólogo=empresária-psicóloga\n",
      "publicitário=empresária-publicitária\n",
      "secretário=subsecretário-secretária\n",
      "senador=vereadora-senadora\n",
      "sociólogo=empresária-socióloga\n",
      "síndico=empresária-síndica\n",
      "tutor=tia-tutora\n",
      "vendedor=empresária-vendedora\n",
      "vereador=vereadora-vereadora\n",
      "veterinário=empresária-veterinária\n",
      "6\n",
      "98\n",
      "accuracy = 0.061224489795918366\n"
     ]
    },
    {
     "data": {
      "text/plain": [
       "0.061224489795918366"
      ]
     },
     "execution_count": 11,
     "metadata": {},
     "output_type": "execute_result"
    }
   ],
   "source": [
    "def evaluate_w2c(E,professions_pair):\n",
    "       \n",
    "   #def evaluete_tuples(E,professions_pair):\n",
    "    tmp_file='./data/temp.bin'\n",
    "    E.save_w2v(tmp_file)\n",
    "    print (\"saved\")\n",
    "    from gensim.models import KeyedVectors\n",
    "    tmp_file='./data/temp.bin'\n",
    "    word_vectors = KeyedVectors.load_word2vec_format(tmp_file, binary=True)\n",
    "    with open(\"./data/professions_analogies_pt.txt\", \"r\") as ins:\n",
    "        for line in ins:\n",
    "            line=line.replace(\"\\n\",\"\").replace(\"(\",\"\").replace(\")\",\"\").replace(\"'\",\"\").replace(\" \",\"\")\n",
    "            male=line.split(\",\")[1]\n",
    "            fema=line.split(\",\")[0]\n",
    "            professions_pair.append([male,fema])\n",
    "\n",
    "    len_= len(professions_pair)\n",
    "    acc = 0\n",
    "    for p in professions_pair:\n",
    "        male=p[0]\n",
    "        fema=p[1]\n",
    "        #word_vectors.\n",
    "        if (male in word_vectors.vocab and fema in word_vectors.vocab):\n",
    "            x = word_vectors.most_similar(positive=['mulher', male], negative=['homem'])[0][0]\n",
    "            print (male+\"=\"+x+\"-\"+fema)\n",
    "            if x== fema:\n",
    "                acc+=1\n",
    "\n",
    "    out = acc/float(len_)\n",
    "    print (acc)\n",
    "    print (len_)\n",
    "    print (\"accuracy =\",out)\n",
    "    return out\n",
    "\n",
    "\n",
    "\n",
    "evaluate_w2c(E,professions_pair)"
   ]
  },
  {
   "cell_type": "markdown",
   "metadata": {},
   "source": [
    "- #### Step 4: Analyzing gender bias in word vectors associated with professions"
   ]
  },
  {
   "cell_type": "code",
   "execution_count": 8,
   "metadata": {},
   "outputs": [
    {
     "data": {
      "text/plain": [
       "([(-0.09879555, 'ajudante'),\n",
       "  (-0.05029242, 'política'),\n",
       "  (-0.024776038, 'jornalismo'),\n",
       "  (-0.018601764, 'design'),\n",
       "  (-0.014257116, 'enfermagem'),\n",
       "  (-0.013866575, 'direito'),\n",
       "  (-0.012364276, 'motorista'),\n",
       "  (0.0020164233, 'policial'),\n",
       "  (0.026986431, 'arquitetura'),\n",
       "  (0.033040524, 'medicina'),\n",
       "  (0.03306193, 'antropologia'),\n",
       "  (0.034641955, 'artes'),\n",
       "  (0.037827827, 'computação'),\n",
       "  (0.04257617, 'arqueologia'),\n",
       "  (0.053356074, 'contabilidade'),\n",
       "  (0.05761321, 'psicologia'),\n",
       "  (0.078031376, 'engenharia')],\n",
       " [(-0.09879555, 'ajudante'),\n",
       "  (-0.05029242, 'política'),\n",
       "  (-0.024776038, 'jornalismo'),\n",
       "  (-0.018601764, 'design'),\n",
       "  (-0.014257116, 'enfermagem'),\n",
       "  (-0.013866575, 'direito'),\n",
       "  (-0.012364276, 'motorista'),\n",
       "  (0.0020164233, 'policial'),\n",
       "  (0.026986431, 'arquitetura'),\n",
       "  (0.033040524, 'medicina'),\n",
       "  (0.03306193, 'antropologia'),\n",
       "  (0.034641955, 'artes'),\n",
       "  (0.037827827, 'computação'),\n",
       "  (0.04257617, 'arqueologia'),\n",
       "  (0.053356074, 'contabilidade'),\n",
       "  (0.05761321, 'psicologia'),\n",
       "  (0.078031376, 'engenharia')])"
      ]
     },
     "execution_count": 8,
     "metadata": {},
     "output_type": "execute_result"
    }
   ],
   "source": [
    "# profession analysis gender\n",
    "sp = sorted([(E.v(w).dot(v_gender), w) for w in profession_words])\n",
    "\n",
    "sp[0:20], sp[-20:]"
   ]
  },
  {
   "cell_type": "markdown",
   "metadata": {},
   "source": [
    "### Part 2\n",
    "#### Debias\n",
    "\n",
    "- #### Step 5:"
   ]
  },
  {
   "cell_type": "code",
   "execution_count": 5,
   "metadata": {
    "scrolled": false
   },
   "outputs": [],
   "source": [
    "from debiaswe.debias import debias"
   ]
  },
  {
   "cell_type": "code",
   "execution_count": 6,
   "metadata": {},
   "outputs": [
    {
     "name": "stdout",
     "output_type": "stream",
     "text": [
      "definitional [['mulher', 'homem'], ['garota', 'garoto'], ['ela', 'ele'], ['mãe', 'pai'], ['filha', 'filho'], ['moça', 'moço'], ['fêmea', 'macho'], ['dela', 'dele'], ['própria', 'próprio']]\n",
      "gender specific 158 ['atriz', 'atrizes', 'tia', 'tias', 'bacharel', 'bacharela', 'bailarina', 'barbearia', 'barítono', 'barba']\n"
     ]
    }
   ],
   "source": [
    "with open('./data/definitional_pairs_pt.json', \"r\") as f:\n",
    "    defs = json.load(f)\n",
    "print(\"definitional\", defs)\n",
    "\n",
    "with open('./data/equalize_pairs_pt.json', \"r\") as f:\n",
    "    equalize_pairs = json.load(f)\n",
    "\n",
    "with open('./data/gender_specific_seed_pt.json', \"r\") as f:\n",
    "    gender_specific_words = json.load(f)\n",
    "print(\"gender specific\", len(gender_specific_words), gender_specific_words[:10])"
   ]
  },
  {
   "cell_type": "code",
   "execution_count": 24,
   "metadata": {
    "scrolled": true
   },
   "outputs": [
    {
     "name": "stdout",
     "output_type": "stream",
     "text": [
      "934966 words of dimension 300 : </s>, ,, de, ., ..., indispô-la, microquimerismo, matro, sentar-se-ia\n",
      "{('PADRE', 'FREIRA'), ('PRÓPRIO', 'PRÓPRIA'), ('potro', 'potranca'), ('TIO', 'TIA'), ('HOMEM', 'MULHER'), ('Príncipe', 'Princesa'), ('Homem', 'Mulher'), ('Dele', 'Dela'), ('DELE', 'DELA'), ('príncipe', 'princesa'), ('IRMÃOS', 'IRMÃS'), ('testosterona', 'estrogênio'), ('filhos', 'filhas'), ('Irmão', 'Irmã'), ('IRMÃO', 'IRMÃ'), ('homem', 'mulher'), ('aluno', 'aluna'), ('Menino', 'Menina'), ('VÔ', 'VÓ'), ('Reis', 'Rainhas'), ('EX NAMORADA', 'EX NAMORADO'), ('próprio', 'própria'), ('menino', 'menina'), ('Vereador', 'Vereadora'), ('pais', 'mães'), ('Cavalheiros', 'Damas'), ('Ele', 'Ela'), ('Potro', 'Potranca'), ('Pais', 'Mães'), ('esposas', 'maridos'), ('netos', 'netas'), ('MENINO', 'MENINA'), ('sobrinho', 'sobrinha'), ('VEREADOR', 'VEREADORA'), ('PATERNIDADE', 'MATERNIDADE'), ('Neto', 'Neta'), ('filho', 'filha'), ('REIS', 'RAINHAS'), ('HOMENS', 'MULHERES'), ('ESPOSAS', 'MARIDOS'), ('MONASTÉRIO', 'CONVENTO'), ('Padre', 'Freira'), ('FILHOS', 'FILHAS'), ('reis', 'rainhas'), ('MENINOS', 'MENINAS'), ('meninos', 'meninas'), ('tio', 'tia'), ('irmão', 'irmã'), ('NETOS', 'NETAS'), ('paternidade', 'maternidade'), ('Rei', 'Rainha'), ('vô', 'vó'), ('Macho', 'Fêmea'), ('Filhos', 'Filhas'), ('NETO', 'NETA'), ('Câncer De Próstata', 'Câncer De Ovário'), ('Empresário', 'Empresária'), ('avô', 'avó'), ('EMPRESÁRIO', 'EMPRESÁRIA'), ('presidente', 'presidenta'), ('MACHOS', 'FÊMEAS'), ('IRMÃO GÊMEO', 'IRMÃ GÊMEA'), ('CAVALHEIROS', 'DAMAS'), ('TESTOSTERONA', 'ESTROGÊNIO'), ('Vô', 'Vó'), ('Sobrinho', 'Sobrinha'), ('empresário', 'empresária'), ('machos', 'fêmeas'), ('Netos', 'Netas'), ('PAIS', 'MÃES'), ('Esposas', 'Maridos'), ('Ex Namorada', 'Ex Namorado'), ('fraternidade', 'sororidade'), ('PRÍNCIPE', 'PRINCESA'), ('SOBRINHO', 'SOBRINHA'), ('FRATERNIDADE', 'SORORIDADE'), ('REI', 'RAINHA'), ('Avô', 'Avó'), ('Irmãos', 'Irmãs'), ('neto', 'neta'), ('ex namorada', 'ex namorado'), ('Meninos', 'Meninas'), ('Irmão Gêmeo', 'Irmã Gêmea'), ('FILHO', 'FILHA'), ('Filho', 'Filha'), ('homens', 'mulheres'), ('vereador', 'vereadora'), ('Aluno', 'Aluna'), ('CÂNCER DE PRÓSTATA', 'CÂNCER DE OVÁRIO'), ('câncer de próstata', 'câncer de ovário'), ('monastério', 'convento'), ('Homens', 'Mulheres'), ('Tio', 'Tia'), ('Monastério', 'Convento'), ('pai', 'mãe'), ('Pai', 'Mãe'), ('ALUNO', 'ALUNA'), ('PRESIDENTE', 'PRESIDENTA'), ('dele', 'dela'), ('cavalheiros', 'damas'), ('irmão gêmeo', 'irmã gêmea'), ('irmãos', 'irmãs'), ('cavalheiro', 'dama'), ('rei', 'rainha'), ('PAI', 'MÃE'), ('Presidente', 'Presidenta'), ('ELE', 'ELA'), ('macho', 'fêmea'), ('ele', 'ela'), ('Testosterona', 'Estrogênio'), ('AVÔ', 'AVÓ'), ('MACHO', 'FÊMEA'), ('Machos', 'Fêmeas'), ('padre', 'freira'), ('Fraternidade', 'Sororidade'), ('Paternidade', 'Maternidade'), ('Cavalheiro', 'Dama'), ('CAVALHEIRO', 'DAMA'), ('Próprio', 'Própria'), ('POTRO', 'POTRANCA')}\n",
      "934966 words of dimension 300 : </s>, ,, de, ., ..., indispô-la, microquimerismo, matro, sentar-se-ia\n",
      "saved\n",
      "assassina=assassino-assassina\n",
      "advogada=psicóloga-advogada\n",
      "administradora=proprietária-administradora\n",
      "ajudante=ex-ajudante-ajudante\n",
      "ator=actor-ator\n",
      "conhecida=conhecido-conhecida\n",
      "artista=pintor-artista\n",
      "arquiteto=arquitecto-arquiteto\n",
      "analista=economista-analista\n",
      "arqueólogo=historiador-arqueólogo\n",
      "arcebispo=bispo-arcebispo\n",
      "contador=mestremundo-contador\n",
      "antropólogo=geólogo-antropólogo\n",
      "embaixador=primeiro-ministro-embaixador\n",
      "aventureiro=empreendedor-aventureiro\n",
      "atriz=actriz-atriz\n",
      "vereadora=presidenta-vereadora\n",
      "advogado=economista-advogada\n",
      "arquiteto=arquitecto-arquiteta\n",
      "ator=actor-atriz\n",
      "bibliotecário=professor-bibliotecária\n",
      "biólogo=sociólogo-bióloga\n",
      "blogueiro=jornalista-blogueira\n",
      "bombeiro=socorrista-bombeira\n",
      "cabeleireiro=cozinheiro-cabeleireira\n",
      "camareiro=navarco-camareira\n",
      "cantor=músico-cantora\n",
      "consultor=assessor-consultora\n",
      "contador=mestremundo-contadora\n",
      "coordenador=superintendente-coordenadora\n",
      "coreógrafo=actor-coreógrafa\n",
      "costureiro=cozinheiro-costureira\n",
      "cozinheiro=garçom-cozinheira\n",
      "dançarino=bailarino-dançarina\n",
      "decorador=desenhista-decoradora\n",
      "diagramador=hsipaw-diagramadora\n",
      "diretor=director-diretora\n",
      "empresário=neto-empresária\n",
      "enfermeiro=dentista-enfermeira\n",
      "engenheiro=arquiteto-engenheira\n",
      "escritor=poeta-escritora\n",
      "estagiário=escriturário-estagiária\n",
      "fotógrafo=cineasta-fotógrafa\n",
      "garçom=cozinheiro-garçonete\n",
      "historiador=sociólogo-historiadora\n",
      "instrutor=instrutora-instrutora\n",
      "juíz=juiz-juíza\n",
      "matemático=filósofo-matemática\n",
      "médico=dentista-médica\n",
      "pedagogo=educador-pedagoga\n",
      "pesquisador=economista-pesquisadora\n",
      "pintor=escultor-pintora\n",
      "professor=ex-professor-professora\n",
      "programador=desenvolvedor-programadora\n",
      "promotor=procurador-promotora\n",
      "psicopedagogo=papagaio-de-bico-largo-psicopedagoga\n",
      "psicólogo=psiquiatra-psicóloga\n",
      "publicitário=jornalista-publicitária\n",
      "secretário=subsecretário-secretária\n",
      "senador=ex-senador-senadora\n",
      "sociólogo=historiador-socióloga\n",
      "síndico=porteiro-síndica\n",
      "tutor=preceptor-tutora\n",
      "vendedor=comerciante-vendedora\n",
      "vereador=presidente-vereadora\n",
      "veterinário=legista-veterinária\n",
      "1\n",
      "66\n",
      "accuracy = 0.015151515151515152\n"
     ]
    },
    {
     "data": {
      "text/plain": [
       "0.015151515151515152"
      ]
     },
     "execution_count": 24,
     "metadata": {},
     "output_type": "execute_result"
    }
   ],
   "source": [
    "debias(E, gender_specific_words, defs, equalize_pairs)\n",
    "\n",
    "sp_debiased = sorted([(E.v(w).dot(v_gender), w) for w in profession_words])\n",
    "\n",
    "male, female = sp_debiased[0:20], sp_debiased[-20:]\n",
    "debiased_pairs = []\n",
    "for i, j in zip(male, female):\n",
    "    debiased_pairs.append([i[1],j[1]])\n",
    "\n",
    "evaluate_w2c(E,debiased_pairs)"
   ]
  }
 ],
 "metadata": {
  "kernelspec": {
   "display_name": "Python 3",
   "language": "python",
   "name": "python3"
  },
  "language_info": {
   "codemirror_mode": {
    "name": "ipython",
    "version": 3
   },
   "file_extension": ".py",
   "mimetype": "text/x-python",
   "name": "python",
   "nbconvert_exporter": "python",
   "pygments_lexer": "ipython3",
   "version": "3.6.4"
  }
 },
 "nbformat": 4,
 "nbformat_minor": 2
}
