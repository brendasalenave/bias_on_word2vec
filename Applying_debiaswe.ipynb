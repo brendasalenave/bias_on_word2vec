{
 "cells": [
  {
   "cell_type": "markdown",
   "metadata": {},
   "source": [
    "## Hands-on\n",
    "### Quantifying and Reducing Gender Stereotypes in Portuguese Word Embeddings\n",
    "\n",
    "Based in the following paper: Man is to Computer Programmer as Woman is to Homemaker? Debiasing Word Embeddings by Tolga Bolukbasi, Kai-Wei Chang, James Zou, Venkatesh Saligrama, and Adam Kalai. Proceedings of NIPS 2016."
   ]
  },
  {
   "cell_type": "code",
   "execution_count": 1,
   "metadata": {},
   "outputs": [],
   "source": [
    "from __future__ import print_function, division\n",
    "%matplotlib inline\n",
    "from matplotlib import pyplot as plt\n",
    "import json\n",
    "import random\n",
    "import numpy as np\n",
    "\n",
    "import debiaswe as dwe\n",
    "import debiaswe.we as we\n",
    "from debiaswe.we import WordEmbedding\n",
    "from debiaswe.data import load_professions_pt"
   ]
  },
  {
   "cell_type": "markdown",
   "metadata": {},
   "source": [
    "### Part1 \n",
    "#### Gender Bias in Word Embedding\n",
    "\n",
    "\n",
    "- #### Step 1: Load data"
   ]
  },
  {
   "cell_type": "code",
   "execution_count": 2,
   "metadata": {
    "scrolled": false
   },
   "outputs": [
    {
     "name": "stdout",
     "output_type": "stream",
     "text": [
      "*** Reading data from ./embeddings/cbow_s300.txt\n",
      "(934966, 300)\n",
      "934966 words of dimension 300 : </s>, ,, de, ., ..., indispô-la, microquimerismo, matro, sentar-se-ia\n",
      "934966 words of dimension 300 : </s>, ,, de, ., ..., indispô-la, microquimerismo, matro, sentar-se-ia\n"
     ]
    }
   ],
   "source": [
    "# load google news word2vec\n",
    "E = WordEmbedding('./embeddings/cbow_s300.txt')\n"
   ]
  },
  {
   "cell_type": "code",
   "execution_count": 3,
   "metadata": {},
   "outputs": [
    {
     "name": "stdout",
     "output_type": "stream",
     "text": [
      "Loaded professions\n",
      "Format:\n",
      "word,\n",
      "definitional female -1.0 -> definitional male 1.0\n",
      "stereotypical female -1.0 -> stereotypical male 1.0\n"
     ]
    }
   ],
   "source": [
    "# load professions\n",
    "professions = load_professions_pt()\n",
    "profession_words = [p[0] for p in professions]"
   ]
  },
  {
   "cell_type": "markdown",
   "metadata": {},
   "source": [
    "- #### Step 2: Define Gender Direction"
   ]
  },
  {
   "cell_type": "code",
   "execution_count": 4,
   "metadata": {
    "scrolled": true
   },
   "outputs": [],
   "source": [
    "# gender direction\n",
    "v_gender = E.diff('ela', 'ele')"
   ]
  },
  {
   "cell_type": "markdown",
   "metadata": {},
   "source": [
    "- #### Step 3: Generating analogies of \"Homem: x :: Mulher : y\""
   ]
  },
  {
   "cell_type": "code",
   "execution_count": 5,
   "metadata": {},
   "outputs": [
    {
     "data": {
      "text/plain": [
       "'a_gender = E.best_analogies_dist_thresh(v_gender)\\n\\nfor (a,b,c) in a_gender:\\n    print(a+\"-\"+b)'"
      ]
     },
     "execution_count": 5,
     "metadata": {},
     "output_type": "execute_result"
    }
   ],
   "source": [
    "\"\"\"a_gender = E.best_analogies_dist_thresh(v_gender)\n",
    "\n",
    "for (a,b,c) in a_gender:\n",
    "    print(a+\"-\"+b)\"\"\""
   ]
  },
  {
   "cell_type": "code",
   "execution_count": 6,
   "metadata": {},
   "outputs": [],
   "source": [
    "professions_pair=[]\n",
    "\n",
    "with open('./data/professions_analogies_pt.txt', \"r\") as f:\n",
    "    for line in f:\n",
    "        line=line.replace(\"\\n\",\"\").replace(\"(\",\"\").replace(\")\",\"\").replace(\"'\",\"\").replace(\" \",\"\")\n",
    "        male=line.split(\",\")[1]\n",
    "        fema=line.split(\",\")[0]\n",
    "        professions_pair.append([male,fema])"
   ]
  },
  {
   "cell_type": "code",
   "execution_count": 7,
   "metadata": {},
   "outputs": [
    {
     "name": "stdout",
     "output_type": "stream",
     "text": [
      "saved\n",
      "advogado=advogada-advogada\n",
      "arquiteto=esposa-arquiteta\n",
      "ator=atriz-atriz\n",
      "biologo=esposa-biologa\n",
      "blogueiro=dama-de-companhia-blogueira\n",
      "bombeiro=enfermeira-bombeira\n",
      "cabeleireiro=cabeleireira-cabeleireira\n",
      "camareiro=esposa-camareira\n",
      "cantor=namorada-cantora\n",
      "consultor=enfermeira-consultora\n",
      "contador=esposa-contadora\n",
      "coordenador=coordenadora-coordenadora\n",
      "coreografo=esposa-coreografa\n",
      "costureiro=esposa-costureira\n",
      "cozinheiro=enfermeira-cozinheira\n",
      "dançarino=dançarina-dançarina\n",
      "decorador=esposa-decoradora\n",
      "diagramador=ex-namorada-diagramadora\n",
      "diretor=diretora-diretora\n",
      "empresario=irmã-empresaria\n",
      "enfermeiro=enfermeira-enfermeira\n",
      "engenheiro=esposa-engenheira\n",
      "escritor=ensaísta-escritora\n",
      "estagiario=esposa-estagiaria\n",
      "fotógrafo=namorada-fotógrafa\n",
      "garçom=garçonete-garçonete\n",
      "historiador=esposa-historiadora\n",
      "instrutor=instrutora-instrutora\n",
      "juiz=esposa-juiza\n",
      "matemático=esposa-matemática\n",
      "médico=enfermeira-médica\n",
      "pedagogo=enfermeira-pedagoga\n",
      "pesquisador=enfermeira-pesquisadora\n",
      "pintor=pintora-pintora\n",
      "professor=professora-professora\n",
      "programador=esposa-programadora\n",
      "promotor=advogada-promotora\n",
      "psicopedagogo=esposa-psicopedagoga\n",
      "psicologo=esposa-psicologa\n",
      "publicitario=competiti-vidade-publicitaria\n",
      "secretario=secretária-secretaria\n",
      "senador=namorada-senadora\n",
      "sindico=esposa-sindica\n",
      "tutor=esposa-tutora\n",
      "vendedor=enfermeira-vendedora\n",
      "vereador=vereadora-vereadora\n",
      "veterinario=esposa-veterinaria\n",
      "advogado=advogada-advogada\n",
      "arquiteto=esposa-arquiteta\n",
      "ator=atriz-atriz\n",
      "biologo=esposa-biologa\n",
      "blogueiro=dama-de-companhia-blogueira\n",
      "bombeiro=enfermeira-bombeira\n",
      "cabeleireiro=cabeleireira-cabeleireira\n",
      "camareiro=esposa-camareira\n",
      "cantor=namorada-cantora\n",
      "consultor=enfermeira-consultora\n",
      "contador=esposa-contadora\n",
      "coordenador=coordenadora-coordenadora\n",
      "coreografo=esposa-coreografa\n",
      "costureiro=esposa-costureira\n",
      "cozinheiro=enfermeira-cozinheira\n",
      "dançarino=dançarina-dançarina\n",
      "decorador=esposa-decoradora\n",
      "diagramador=ex-namorada-diagramadora\n",
      "diretor=diretora-diretora\n",
      "empresario=irmã-empresaria\n",
      "enfermeiro=enfermeira-enfermeira\n",
      "engenheiro=esposa-engenheira\n",
      "escritor=ensaísta-escritora\n",
      "estagiario=esposa-estagiaria\n",
      "fotógrafo=namorada-fotógrafa\n",
      "garçom=garçonete-garçonete\n",
      "historiador=esposa-historiadora\n",
      "instrutor=instrutora-instrutora\n",
      "juiz=esposa-juiza\n",
      "matemático=esposa-matemática\n",
      "médico=enfermeira-médica\n",
      "pedagogo=enfermeira-pedagoga\n",
      "pesquisador=enfermeira-pesquisadora\n",
      "pintor=pintora-pintora\n",
      "professor=professora-professora\n",
      "programador=esposa-programadora\n",
      "promotor=advogada-promotora\n",
      "psicopedagogo=esposa-psicopedagoga\n",
      "psicologo=esposa-psicologa\n",
      "publicitario=competiti-vidade-publicitaria\n",
      "secretario=secretária-secretaria\n",
      "senador=namorada-senadora\n",
      "sindico=esposa-sindica\n",
      "tutor=esposa-tutora\n",
      "vendedor=enfermeira-vendedora\n",
      "vereador=vereadora-vereadora\n",
      "veterinario=esposa-veterinaria\n",
      "24\n",
      "98\n",
      "accuracy = 0.24489795918367346\n"
     ]
    },
    {
     "data": {
      "text/plain": [
       "0.24489795918367346"
      ]
     },
     "execution_count": 7,
     "metadata": {},
     "output_type": "execute_result"
    }
   ],
   "source": [
    "def evaluate_w2c(E,professions_pair):\n",
    "       \n",
    "   #def evaluete_tuples(E,professions_pair):\n",
    "    tmp_file='./data/temp.bin'\n",
    "    E.save_w2v(tmp_file)\n",
    "    print (\"saved\")\n",
    "    from gensim.models import KeyedVectors\n",
    "    tmp_file='./data/temp.bin'\n",
    "    word_vectors = KeyedVectors.load_word2vec_format(tmp_file, binary=True)\n",
    "    with open(\"./data/professions_analogies_pt.txt\", \"r\") as ins:\n",
    "        for line in ins:\n",
    "            line=line.replace(\"\\n\",\"\").replace(\"(\",\"\").replace(\")\",\"\").replace(\"'\",\"\").replace(\" \",\"\")\n",
    "            male=line.split(\",\")[1]\n",
    "            fema=line.split(\",\")[0]\n",
    "            professions_pair.append([male,fema])\n",
    "\n",
    "    len_= len(professions_pair)\n",
    "    acc = 0\n",
    "    for p in professions_pair:\n",
    "        male=p[0]\n",
    "        fema=p[1]\n",
    "        #word_vectors.\n",
    "        if (male in word_vectors.vocab and fema in word_vectors.vocab):\n",
    "            x = word_vectors.most_similar(positive=['mulher', male], negative=['homem'])[0][0]\n",
    "            print (male+\"=\"+x+\"-\"+fema)\n",
    "            if x== fema:\n",
    "                acc+=1\n",
    "\n",
    "    out = acc/float(len_)\n",
    "    print (acc)\n",
    "    print (len_)\n",
    "    print (\"accuracy =\",out)\n",
    "    return out\n",
    "\n",
    "\n",
    "\n",
    "#evaluate_w2c(E,professions_pair)"
   ]
  },
  {
   "cell_type": "markdown",
   "metadata": {},
   "source": [
    "- #### Step 4: Analyzing gender bias in word vectors associated with professions"
   ]
  },
  {
   "cell_type": "code",
   "execution_count": 14,
   "metadata": {},
   "outputs": [
    {
     "name": "stdout",
     "output_type": "stream",
     "text": [
      "saved\n",
      "embaixador=empresaria-embaixador\n",
      "analista=mae-analista\n",
      "contador=irma-contador\n",
      "advogada=mãe-advogada\n",
      "ajudante=irma-ajudante\n",
      "arqueólogo=empresaria-arqueólogo\n",
      "antropólogo=empresaria-antropólogo\n",
      "arcebispo=irma-arcebispo\n",
      "aventureiro=dama-aventureiro\n",
      "artista=empresaria-artista\n",
      "administradora=mãe-administradora\n",
      "arquiteto=empresaria-arquiteto\n",
      "ator=empresaria-ator\n",
      "assassina=mãe-assassina\n",
      "conhecida=conhecido-conhecida\n",
      "vereadora=tia-vereadora\n",
      "atriz=irma-atriz\n",
      "advogado=mae-advogada\n",
      "arquiteto=empresaria-arquiteta\n",
      "ator=empresaria-atriz\n",
      "biologo=empresaria-biologa\n",
      "blogueiro=empresaria-blogueira\n",
      "bombeiro=mãe-bombeira\n",
      "cabeleireiro=irma-cabeleireira\n",
      "camareiro=dama-camareira\n",
      "cantor=empresaria-cantora\n",
      "consultor=empresaria-consultora\n",
      "contador=irma-contadora\n",
      "coordenador=presidenta-coordenadora\n",
      "coreografo=empresaria-coreografa\n",
      "costureiro=irma-costureira\n",
      "cozinheiro=mãe-cozinheira\n",
      "dançarino=irma-dançarina\n",
      "decorador=irma-decoradora\n",
      "diagramador=irma-diagramadora\n",
      "diretor=empresaria-diretora\n",
      "empresario=empresaria-empresaria\n",
      "enfermeiro=mãe-enfermeira\n",
      "engenheiro=empresaria-engenheira\n",
      "escritor=empresaria-escritora\n",
      "estagiario=empresaria-estagiaria\n",
      "fotógrafo=empresaria-fotógrafa\n",
      "garçom=irma-garçonete\n",
      "historiador=empresaria-historiadora\n",
      "instrutor=aluna-instrutora\n",
      "juiz=freira-juiza\n",
      "matemático=empresaria-matemática\n",
      "médico=irma-médica\n",
      "pedagogo=empresaria-pedagoga\n",
      "pesquisador=empresaria-pesquisadora\n",
      "pintor=empresaria-pintora\n",
      "professor=aluna-professora\n",
      "programador=empresaria-programadora\n",
      "promotor=empresaria-promotora\n",
      "psicopedagogo=mae-psicopedagoga\n",
      "psicologo=empresaria-psicologa\n",
      "publicitario=empresaria-publicitaria\n",
      "secretario=irma-secretaria\n",
      "senador=vereadora-senadora\n",
      "sindico=potranca-sindica\n",
      "tutor=mãe-tutora\n",
      "vendedor=aluna-vendedora\n",
      "vereador=vereadora-vereadora\n",
      "veterinario=mae-veterinaria\n",
      "2\n",
      "66\n",
      "accuracy = 0.030303030303030304\n"
     ]
    },
    {
     "data": {
      "text/plain": [
       "0.030303030303030304"
      ]
     },
     "execution_count": 14,
     "metadata": {},
     "output_type": "execute_result"
    }
   ],
   "source": [
    "# profession analysis gender\n",
    "sp = sorted([(E.v(w).dot(v_gender), w) for w in profession_words])\n",
    "\n",
    "sp[0:20], sp[-20:]\n",
    "\n",
    "male, female = sp[0:20], sp[-20:]\n",
    "biased_pairs = []\n",
    "for i, j in zip(male, female):\n",
    "    biased_pairs.append([i[1],j[1]])\n",
    "    \n",
    "evaluate_w2c(E,biased_pairs)"
   ]
  },
  {
   "cell_type": "markdown",
   "metadata": {},
   "source": [
    "### Part 2\n",
    "#### Debias\n",
    "\n",
    "- #### Step 5:"
   ]
  },
  {
   "cell_type": "code",
   "execution_count": 10,
   "metadata": {
    "scrolled": false
   },
   "outputs": [],
   "source": [
    "from debiaswe.debias import debias"
   ]
  },
  {
   "cell_type": "code",
   "execution_count": 11,
   "metadata": {},
   "outputs": [
    {
     "name": "stdout",
     "output_type": "stream",
     "text": [
      "definitional [['mulher', 'homem'], ['garota', 'garoto'], ['ela', 'ele'], ['mae', 'pai'], ['filha', 'filho'], ['moca', 'moco'], ['femea', 'macho'], ['dela', 'dele'], ['propria', 'proprio']]\n",
      "gender specific 141 ['atriz', 'atrizes', 'tia', 'tias', 'bacharel', 'bacharela', 'bailarina', 'barbearia', 'baritono', 'barba']\n"
     ]
    }
   ],
   "source": [
    "with open('./data/definitional_pairs_pt.json', \"r\") as f:\n",
    "    defs = json.load(f)\n",
    "print(\"definitional\", defs)\n",
    "\n",
    "with open('./data/equalize_pairs_pt.json', \"r\") as f:\n",
    "    equalize_pairs = json.load(f)\n",
    "\n",
    "with open('./data/gender_specific_seed_pt.json', \"r\") as f:\n",
    "    gender_specific_words = json.load(f)\n",
    "print(\"gender specific\", len(gender_specific_words), gender_specific_words[:10])"
   ]
  },
  {
   "cell_type": "code",
   "execution_count": 12,
   "metadata": {
    "scrolled": true
   },
   "outputs": [
    {
     "name": "stdout",
     "output_type": "stream",
     "text": [
      "934966 words of dimension 300 : </s>, ,, de, ., ..., indispô-la, microquimerismo, matro, sentar-se-ia\n",
      "{('ELE', 'ELA'), ('PRINCIPE', 'PRINCESA'), ('Principe', 'Princesa'), ('MENINOS', 'MENINAS'), ('empresario', 'empresaria'), ('Monastério', 'Convento'), ('CAVALHEIRO', 'DAMA'), ('Pai', 'Mãe'), ('ele', 'ela'), ('Pais', 'Maes'), ('irmao gemeo', 'irma gemea'), ('pais', 'maes'), ('Empresario', 'Empresaria'), ('Neto', 'Neta'), ('Cavalheiro', 'Dama'), ('Vereador', 'Vereadora'), ('meninos', 'meninas'), ('Padre', 'Freira'), ('Reis', 'Rainhas'), ('Filho', 'Filha'), ('FILHO', 'FILHA'), ('potro', 'potranca'), ('Paternidade', 'Maternidade'), ('MACHO', 'FEMEA'), ('tio', 'tia'), ('PROPRIO', 'PROPRIA'), ('Cavalheiros', 'Damas'), ('filho', 'filha'), ('PAIS', 'MAES'), ('fraternidade', 'sororidade'), ('proprio', 'propria'), ('macho', 'femea'), ('Presidente', 'Presidenta'), ('IRMAO GEMEO', 'IRMA GEMEA'), ('pai', 'mae'), ('Meninos', 'Meninas'), ('pai', 'mãe'), ('dele', 'dela'), ('TIO', 'TIA'), ('cavalheiros', 'damas'), ('DELE', 'DELA'), ('SOBRINHO', 'SOBRINHA'), ('REIS', 'RAINHAS'), ('paternidade', 'maternidade'), ('PAI', 'MAE'), ('Machos', 'Femeas'), ('Testosterona', 'Estrogenio'), ('MENINO', 'MENINA'), ('Irmao Gemeo', 'Irma Gemea'), ('irmao', 'irma'), ('Potro', 'Potranca'), ('IRMAO', 'IRMA'), ('Fraternidade', 'Sororidade'), ('aluno', 'aluna'), ('Tio', 'Tia'), ('HOMEM', 'MULHER'), ('CAVALHEIROS', 'DAMAS'), ('TESTOSTERONA', 'ESTROGENIO'), ('esposas', 'maridos'), ('Homem', 'Mulher'), ('testosterona', 'estrogenio'), ('homem', 'mulher'), ('homens', 'mulheres'), ('Dele', 'Dela'), ('ESPOSAS', 'MARIDOS'), ('vereador', 'vereadora'), ('Menino', 'Menina'), ('Rei', 'Rainha'), ('PAI', 'MÃE'), ('neto', 'neta'), ('reis', 'rainhas'), ('IRMAOS', 'IRMAS'), ('irmaos', 'irmas'), ('Irmao', 'Irma'), ('HOMENS', 'MULHERES'), ('menino', 'menina'), ('POTRO', 'POTRANCA'), ('Ele', 'Ela'), ('Esposas', 'Maridos'), ('Aluno', 'Aluna'), ('Macho', 'Femea'), ('Irmaos', 'Irmas'), ('NETOS', 'NETAS'), ('NETO', 'NETA'), ('machos', 'femeas'), ('padre', 'freira'), ('Proprio', 'Propria'), ('rei', 'rainha'), ('EMPRESARIO', 'EMPRESARIA'), ('filhos', 'filhas'), ('REI', 'RAINHA'), ('MONASTÉRIO', 'CONVENTO'), ('FILHOS', 'FILHAS'), ('Homens', 'Mulheres'), ('PRESIDENTE', 'PRESIDENTA'), ('PADRE', 'FREIRA'), ('Pai', 'Mae'), ('MACHOS', 'FEMEAS'), ('monastério', 'convento'), ('sobrinho', 'sobrinha'), ('Filhos', 'Filhas'), ('FRATERNIDADE', 'SORORIDADE'), ('PATERNIDADE', 'MATERNIDADE'), ('netos', 'netas'), ('Sobrinho', 'Sobrinha'), ('Netos', 'Netas'), ('VEREADOR', 'VEREADORA'), ('ALUNO', 'ALUNA'), ('principe', 'princesa'), ('cavalheiro', 'dama'), ('presidente', 'presidenta')}\n",
      "934966 words of dimension 300 : </s>, ,, de, ., ..., indispô-la, microquimerismo, matro, sentar-se-ia\n"
     ]
    }
   ],
   "source": [
    "E_new = debias(E, gender_specific_words, defs, equalize_pairs)\n",
    "\n",
    "sp_debiased = sorted([(E.v(w).dot(v_gender), w) for w in profession_words])\n",
    "\n",
    "male, female = sp_debiased[0:20], sp_debiased[-20:]\n",
    "debiased_pairs = []\n",
    "for i, j in zip(male, female):\n",
    "    debiased_pairs.append([i[1],j[1]])\n",
    "\n"
   ]
  },
  {
   "cell_type": "code",
   "execution_count": 13,
   "metadata": {},
   "outputs": [
    {
     "name": "stdout",
     "output_type": "stream",
     "text": [
      "saved\n",
      "embaixador=empresaria-embaixador\n",
      "analista=mae-analista\n",
      "contador=irma-contador\n",
      "advogada=mãe-advogada\n",
      "ajudante=irma-ajudante\n",
      "arqueólogo=empresaria-arqueólogo\n",
      "antropólogo=empresaria-antropólogo\n",
      "arcebispo=irma-arcebispo\n",
      "aventureiro=dama-aventureiro\n",
      "artista=empresaria-artista\n",
      "administradora=mãe-administradora\n",
      "arquiteto=empresaria-arquiteto\n",
      "ator=empresaria-ator\n",
      "assassina=mãe-assassina\n",
      "conhecida=conhecido-conhecida\n",
      "vereadora=tia-vereadora\n",
      "atriz=irma-atriz\n",
      "advogado=mae-advogada\n",
      "arquiteto=empresaria-arquiteta\n",
      "ator=empresaria-atriz\n",
      "biologo=empresaria-biologa\n",
      "blogueiro=empresaria-blogueira\n",
      "bombeiro=mãe-bombeira\n",
      "cabeleireiro=irma-cabeleireira\n",
      "camareiro=dama-camareira\n",
      "cantor=empresaria-cantora\n",
      "consultor=empresaria-consultora\n",
      "contador=irma-contadora\n",
      "coordenador=presidenta-coordenadora\n",
      "coreografo=empresaria-coreografa\n",
      "costureiro=irma-costureira\n",
      "cozinheiro=mãe-cozinheira\n",
      "dançarino=irma-dançarina\n",
      "decorador=irma-decoradora\n",
      "diagramador=irma-diagramadora\n",
      "diretor=empresaria-diretora\n",
      "empresario=empresaria-empresaria\n",
      "enfermeiro=mãe-enfermeira\n",
      "engenheiro=empresaria-engenheira\n",
      "escritor=empresaria-escritora\n",
      "estagiario=empresaria-estagiaria\n",
      "fotógrafo=empresaria-fotógrafa\n",
      "garçom=irma-garçonete\n",
      "historiador=empresaria-historiadora\n",
      "instrutor=aluna-instrutora\n",
      "juiz=freira-juiza\n",
      "matemático=empresaria-matemática\n",
      "médico=irma-médica\n",
      "pedagogo=empresaria-pedagoga\n",
      "pesquisador=empresaria-pesquisadora\n",
      "pintor=empresaria-pintora\n",
      "professor=aluna-professora\n",
      "programador=empresaria-programadora\n",
      "promotor=empresaria-promotora\n",
      "psicopedagogo=mae-psicopedagoga\n",
      "psicologo=empresaria-psicologa\n",
      "publicitario=empresaria-publicitaria\n",
      "secretario=irma-secretaria\n",
      "senador=vereadora-senadora\n",
      "sindico=potranca-sindica\n",
      "tutor=mãe-tutora\n",
      "vendedor=aluna-vendedora\n",
      "vereador=vereadora-vereadora\n",
      "veterinario=mae-veterinaria\n",
      "2\n",
      "66\n",
      "accuracy = 0.030303030303030304\n"
     ]
    },
    {
     "data": {
      "text/plain": [
       "0.030303030303030304"
      ]
     },
     "execution_count": 13,
     "metadata": {},
     "output_type": "execute_result"
    }
   ],
   "source": [
    "evaluate_w2c(E_new,debiased_pairs)"
   ]
  }
 ],
 "metadata": {
  "kernelspec": {
   "display_name": "Python 3",
   "language": "python",
   "name": "python3"
  },
  "language_info": {
   "codemirror_mode": {
    "name": "ipython",
    "version": 3
   },
   "file_extension": ".py",
   "mimetype": "text/x-python",
   "name": "python",
   "nbconvert_exporter": "python",
   "pygments_lexer": "ipython3",
   "version": "3.6.4"
  }
 },
 "nbformat": 4,
 "nbformat_minor": 2
}
