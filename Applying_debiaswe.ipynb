{
 "cells": [
  {
   "cell_type": "markdown",
   "metadata": {},
   "source": [
    "## Hands-on\n",
    "### Quantifying and Reducing Gender Stereotypes in Portuguese Word Embeddings\n",
    "\n",
    "Based in the following paper: Man is to Computer Programmer as Woman is to Homemaker? Debiasing Word Embeddings by Tolga Bolukbasi, Kai-Wei Chang, James Zou, Venkatesh Saligrama, and Adam Kalai. Proceedings of NIPS 2016."
   ]
  },
  {
   "cell_type": "code",
   "execution_count": 2,
   "metadata": {},
   "outputs": [],
   "source": [
    "from __future__ import print_function, division\n",
    "%matplotlib inline\n",
    "from matplotlib import pyplot as plt\n",
    "import json\n",
    "import random\n",
    "import numpy as np\n",
    "\n",
    "import debiaswe as dwe\n",
    "import debiaswe.we as we\n",
    "from debiaswe.we import WordEmbedding\n",
    "from debiaswe.data import load_professions_pt"
   ]
  },
  {
   "cell_type": "markdown",
   "metadata": {},
   "source": [
    "### Part1 \n",
    "#### Gender Bias in Word Embedding\n",
    "\n",
    "\n",
    "- #### Step 1: Load data"
   ]
  },
  {
   "cell_type": "code",
   "execution_count": 4,
   "metadata": {
    "scrolled": false
   },
   "outputs": [
    {
     "name": "stdout",
     "output_type": "stream",
     "text": [
      "*** Reading data from ./embeddings/cbow_s300.txt\n",
      "(934966, 300)\n",
      "934966 words of dimension 300 : </s>, ,, de, ., ..., indispô-la, microquimerismo, matro, sentar-se-ia\n",
      "934966 words of dimension 300 : </s>, ,, de, ., ..., indispô-la, microquimerismo, matro, sentar-se-ia\n"
     ]
    }
   ],
   "source": [
    "# load google news word2vec\n",
    "E = WordEmbedding('./embeddings/cbow_s300.txt')\n"
   ]
  },
  {
   "cell_type": "code",
   "execution_count": 12,
   "metadata": {},
   "outputs": [
    {
     "name": "stdout",
     "output_type": "stream",
     "text": [
      "Loaded professions\n",
      "Format:\n",
      "word,\n",
      "definitional female -1.0 -> definitional male 1.0\n",
      "stereotypical female -1.0 -> stereotypical male 1.0\n"
     ]
    }
   ],
   "source": [
    "# load professions\n",
    "professions = load_professions_pt()\n",
    "profession_words = [p[0] for p in professions]"
   ]
  },
  {
   "cell_type": "markdown",
   "metadata": {},
   "source": [
    "- #### Step 2: Define Gender Direction"
   ]
  },
  {
   "cell_type": "code",
   "execution_count": 5,
   "metadata": {
    "scrolled": true
   },
   "outputs": [],
   "source": [
    "# gender direction\n",
    "v_gender = E.diff('ela', 'ele')"
   ]
  },
  {
   "cell_type": "markdown",
   "metadata": {},
   "source": [
    "- #### Step 3: Generating analogies of \"Homem: x :: Mulher : y\""
   ]
  },
  {
   "cell_type": "code",
   "execution_count": 6,
   "metadata": {},
   "outputs": [
    {
     "data": {
      "text/plain": [
       "'a_gender = E.best_analogies_dist_thresh(v_gender)\\n\\nfor (a,b,c) in a_gender:\\n    print(a+\"-\"+b)'"
      ]
     },
     "execution_count": 6,
     "metadata": {},
     "output_type": "execute_result"
    }
   ],
   "source": [
    "\"\"\"a_gender = E.best_analogies_dist_thresh(v_gender)\n",
    "\n",
    "for (a,b,c) in a_gender:\n",
    "    print(a+\"-\"+b)\"\"\""
   ]
  },
  {
   "cell_type": "code",
   "execution_count": 7,
   "metadata": {},
   "outputs": [
    {
     "name": "stdout",
     "output_type": "stream",
     "text": [
      "saved\n",
      "advogado=advogada-advogada\n",
      "arquiteto=esposa-arquiteta\n",
      "ator=atriz-atriz\n",
      "bibliotecário=enfermeira-bibliotecária\n",
      "biólogo=enfermeira-bióloga\n",
      "blogueiro=dama-de-companhia-blogueira\n",
      "bombeiro=enfermeira-bombeira\n",
      "cabeleireiro=cabeleireira-cabeleireira\n",
      "camareiro=esposa-camareira\n",
      "cantor=namorada-cantora\n",
      "consultor=enfermeira-consultora\n",
      "contador=esposa-contadora\n",
      "coordenador=coordenadora-coordenadora\n",
      "coreógrafo=ex-namorada-coreógrafa\n",
      "costureiro=esposa-costureira\n",
      "cozinheiro=enfermeira-cozinheira\n",
      "dançarino=dançarina-dançarina\n",
      "decorador=esposa-decoradora\n",
      "diagramador=ex-namorada-diagramadora\n",
      "diretor=diretora-diretora\n",
      "empresário=namorada-empresária\n",
      "enfermeiro=enfermeira-enfermeira\n",
      "engenheiro=esposa-engenheira\n",
      "escritor=ensaísta-escritora\n",
      "estagiário=estagiária-estagiária\n",
      "fotógrafo=namorada-fotógrafa\n",
      "garçom=garçonete-garçonete\n",
      "historiador=esposa-historiadora\n",
      "instrutor=instrutora-instrutora\n",
      "juíz=enfermeira-juíza\n",
      "matemático=esposa-matemática\n",
      "médico=enfermeira-médica\n",
      "pedagogo=enfermeira-pedagoga\n",
      "pesquisador=enfermeira-pesquisadora\n",
      "pintor=pintora-pintora\n",
      "professor=professora-professora\n",
      "programador=esposa-programadora\n",
      "promotor=advogada-promotora\n",
      "psicopedagogo=esposa-psicopedagoga\n",
      "psicólogo=enfermeira-psicóloga\n",
      "publicitário=esposa-publicitária\n",
      "secretário=secretária-secretária\n",
      "senador=namorada-senadora\n",
      "sociólogo=esposa-socióloga\n",
      "síndico=namorada-síndica\n",
      "tutor=esposa-tutora\n",
      "vendedor=enfermeira-vendedora\n",
      "vereador=vereadora-vereadora\n",
      "veterinário=enfermeira-veterinária\n",
      "advogado=advogada-advogada\n",
      "arquiteto=esposa-arquiteta\n",
      "ator=atriz-atriz\n",
      "bibliotecário=enfermeira-bibliotecária\n",
      "biólogo=enfermeira-bióloga\n",
      "blogueiro=dama-de-companhia-blogueira\n",
      "bombeiro=enfermeira-bombeira\n",
      "cabeleireiro=cabeleireira-cabeleireira\n",
      "camareiro=esposa-camareira\n",
      "cantor=namorada-cantora\n",
      "consultor=enfermeira-consultora\n",
      "contador=esposa-contadora\n",
      "coordenador=coordenadora-coordenadora\n",
      "coreógrafo=ex-namorada-coreógrafa\n",
      "costureiro=esposa-costureira\n",
      "cozinheiro=enfermeira-cozinheira\n",
      "dançarino=dançarina-dançarina\n",
      "decorador=esposa-decoradora\n",
      "diagramador=ex-namorada-diagramadora\n",
      "diretor=diretora-diretora\n",
      "empresário=namorada-empresária\n",
      "enfermeiro=enfermeira-enfermeira\n",
      "engenheiro=esposa-engenheira\n",
      "escritor=ensaísta-escritora\n",
      "estagiário=estagiária-estagiária\n",
      "fotógrafo=namorada-fotógrafa\n",
      "garçom=garçonete-garçonete\n",
      "historiador=esposa-historiadora\n",
      "instrutor=instrutora-instrutora\n",
      "juíz=enfermeira-juíza\n",
      "matemático=esposa-matemática\n",
      "médico=enfermeira-médica\n",
      "pedagogo=enfermeira-pedagoga\n",
      "pesquisador=enfermeira-pesquisadora\n",
      "pintor=pintora-pintora\n",
      "professor=professora-professora\n",
      "programador=esposa-programadora\n",
      "promotor=advogada-promotora\n",
      "psicopedagogo=esposa-psicopedagoga\n",
      "psicólogo=enfermeira-psicóloga\n",
      "publicitário=esposa-publicitária\n",
      "secretário=secretária-secretária\n",
      "senador=namorada-senadora\n",
      "sociólogo=esposa-socióloga\n",
      "síndico=namorada-síndica\n",
      "tutor=esposa-tutora\n",
      "vendedor=enfermeira-vendedora\n",
      "vereador=vereadora-vereadora\n",
      "veterinário=enfermeira-veterinária\n",
      "28\n",
      "98\n",
      "accuracy = 0.2857142857142857\n"
     ]
    },
    {
     "data": {
      "text/plain": [
       "0.2857142857142857"
      ]
     },
     "execution_count": 7,
     "metadata": {},
     "output_type": "execute_result"
    }
   ],
   "source": [
    "professions_pair=[]\n",
    "\n",
    "with open('./data/professions_analogies_pt.txt', \"r\") as f:\n",
    "    for line in f:\n",
    "        line=line.replace(\"\\n\",\"\").replace(\"(\",\"\").replace(\")\",\"\").replace(\"'\",\"\").replace(\" \",\"\")\n",
    "        male=line.split(\",\")[1]\n",
    "        fema=line.split(\",\")[0]\n",
    "        professions_pair.append([male,fema])\n",
    "\n",
    "def evaluate_w2c(E,professions_pair):\n",
    "       \n",
    "   #def evaluete_tuples(E,professions_pair):\n",
    "    tmp_file='./data/temp.bin'\n",
    "    E.save_w2v(tmp_file)\n",
    "    print (\"saved\")\n",
    "    from gensim.models import KeyedVectors\n",
    "    tmp_file='./data/temp.bin'\n",
    "    word_vectors = KeyedVectors.load_word2vec_format(tmp_file, binary=True)\n",
    "    with open(\"./data/professions_analogies_pt.txt\", \"r\") as ins:\n",
    "        for line in ins:\n",
    "            line=line.replace(\"\\n\",\"\").replace(\"(\",\"\").replace(\")\",\"\").replace(\"'\",\"\").replace(\" \",\"\")\n",
    "            male=line.split(\",\")[1]\n",
    "            fema=line.split(\",\")[0]\n",
    "            professions_pair.append([male,fema])\n",
    "\n",
    "    len_= len(professions_pair)\n",
    "    acc = 0\n",
    "    for p in professions_pair:\n",
    "        male=p[0]\n",
    "        fema=p[1]\n",
    "        #word_vectors.\n",
    "        if (male in word_vectors.vocab and fema in word_vectors.vocab):\n",
    "            x = word_vectors.most_similar(positive=['mulher', male], negative=['homem'])[0][0]\n",
    "            print (male+\"=\"+x+\"-\"+fema)\n",
    "            if x== fema:\n",
    "                acc+=1\n",
    "\n",
    "    out = acc/float(len_)\n",
    "    print (acc)\n",
    "    print (len_)\n",
    "    print (\"accuracy =\",out)\n",
    "    return out\n",
    "\n",
    "\n",
    "\n",
    "evaluate_w2c(E,professions_pair)"
   ]
  },
  {
   "cell_type": "markdown",
   "metadata": {},
   "source": [
    "- #### Step 4: Analyzing gender bias in word vectors associated with professions"
   ]
  },
  {
   "cell_type": "code",
   "execution_count": 8,
   "metadata": {},
   "outputs": [
    {
     "data": {
      "text/plain": [
       "([(-0.09879555, 'ajudante'),\n",
       "  (-0.05029242, 'política'),\n",
       "  (-0.024776038, 'jornalismo'),\n",
       "  (-0.018601764, 'design'),\n",
       "  (-0.014257116, 'enfermagem'),\n",
       "  (-0.013866575, 'direito'),\n",
       "  (-0.012364276, 'motorista'),\n",
       "  (0.0020164233, 'policial'),\n",
       "  (0.026986431, 'arquitetura'),\n",
       "  (0.033040524, 'medicina'),\n",
       "  (0.03306193, 'antropologia'),\n",
       "  (0.034641955, 'artes'),\n",
       "  (0.037827827, 'computação'),\n",
       "  (0.04257617, 'arqueologia'),\n",
       "  (0.053356074, 'contabilidade'),\n",
       "  (0.05761321, 'psicologia'),\n",
       "  (0.078031376, 'engenharia')],\n",
       " [(-0.09879555, 'ajudante'),\n",
       "  (-0.05029242, 'política'),\n",
       "  (-0.024776038, 'jornalismo'),\n",
       "  (-0.018601764, 'design'),\n",
       "  (-0.014257116, 'enfermagem'),\n",
       "  (-0.013866575, 'direito'),\n",
       "  (-0.012364276, 'motorista'),\n",
       "  (0.0020164233, 'policial'),\n",
       "  (0.026986431, 'arquitetura'),\n",
       "  (0.033040524, 'medicina'),\n",
       "  (0.03306193, 'antropologia'),\n",
       "  (0.034641955, 'artes'),\n",
       "  (0.037827827, 'computação'),\n",
       "  (0.04257617, 'arqueologia'),\n",
       "  (0.053356074, 'contabilidade'),\n",
       "  (0.05761321, 'psicologia'),\n",
       "  (0.078031376, 'engenharia')])"
      ]
     },
     "execution_count": 8,
     "metadata": {},
     "output_type": "execute_result"
    }
   ],
   "source": [
    "# profession analysis gender\n",
    "sp = sorted([(E.v(w).dot(v_gender), w) for w in profession_words])\n",
    "\n",
    "sp[0:20], sp[-20:]"
   ]
  },
  {
   "cell_type": "markdown",
   "metadata": {},
   "source": [
    "### Part 2\n",
    "#### Debias\n",
    "\n",
    "- #### Step 5:"
   ]
  },
  {
   "cell_type": "code",
   "execution_count": 9,
   "metadata": {
    "scrolled": false
   },
   "outputs": [],
   "source": [
    "from debiaswe.debias import debias"
   ]
  },
  {
   "cell_type": "code",
   "execution_count": 10,
   "metadata": {},
   "outputs": [
    {
     "name": "stdout",
     "output_type": "stream",
     "text": [
      "definitional [['mulher', 'homem'], ['garota', 'garoto'], ['ela', 'ele'], ['mãe', 'pai'], ['filha', 'filho'], ['moça', 'moço'], ['fêmea', 'macho'], ['dela', 'dele'], ['própria', 'próprio']]\n",
      "gender specific 158 ['atriz', 'atrizes', 'tia', 'tias', 'bacharel', 'bacharela', 'bailarina', 'barbearia', 'barítono', 'barba']\n"
     ]
    }
   ],
   "source": [
    "with open('./data/definitional_pairs_pt.json', \"r\") as f:\n",
    "    defs = json.load(f)\n",
    "print(\"definitional\", defs)\n",
    "\n",
    "with open('./data/equalize_pairs_pt.json', \"r\") as f:\n",
    "    equalize_pairs = json.load(f)\n",
    "\n",
    "with open('./data/gender_specific_seed_pt.json', \"r\") as f:\n",
    "    gender_specific_words = json.load(f)\n",
    "print(\"gender specific\", len(gender_specific_words), gender_specific_words[:10])"
   ]
  },
  {
   "cell_type": "code",
   "execution_count": 11,
   "metadata": {
    "scrolled": true
   },
   "outputs": [
    {
     "name": "stdout",
     "output_type": "stream",
     "text": [
      "934966 words of dimension 300 : </s>, ,, de, ., ..., indispô-la, microquimerismo, matro, sentar-se-ia\n",
      "{('MONASTÉRIO', 'CONVENTO'), ('ESPOSAS', 'MARIDOS'), ('Príncipe', 'Princesa'), ('Avô', 'Avó'), ('Testosterona', 'Estrogênio'), ('Neto', 'Neta'), ('Cavalheiros', 'Damas'), ('REIS', 'RAINHAS'), ('tio', 'tia'), ('NETOS', 'NETAS'), ('ALUNO', 'ALUNA'), ('vereador', 'vereadora'), ('esposas', 'maridos'), ('PRÓPRIO', 'PRÓPRIA'), ('empresário', 'empresária'), ('machos', 'fêmeas'), ('IRMÃO', 'IRMÃ'), ('Pais', 'Mães'), ('REI', 'RAINHA'), ('Netos', 'Netas'), ('Aluno', 'Aluna'), ('dele', 'dela'), ('MENINOS', 'MENINAS'), ('AVÔ', 'AVÓ'), ('CAVALHEIRO', 'DAMA'), ('SOBRINHO', 'SOBRINHA'), ('Fraternidade', 'Sororidade'), ('FRATERNIDADE', 'SORORIDADE'), ('Filhos', 'Filhas'), ('MACHOS', 'FÊMEAS'), ('MACHO', 'FÊMEA'), ('avô', 'avó'), ('padre', 'freira'), ('Tio', 'Tia'), ('Homens', 'Mulheres'), ('EX NAMORADA', 'EX NAMORADO'), ('IRMÃOS', 'IRMÃS'), ('Irmãos', 'Irmãs'), ('DELE', 'DELA'), ('NETO', 'NETA'), ('TIO', 'TIA'), ('TESTOSTERONA', 'ESTROGÊNIO'), ('Potro', 'Potranca'), ('Irmão', 'Irmã'), ('Macho', 'Fêmea'), ('fraternidade', 'sororidade'), ('sobrinho', 'sobrinha'), ('câncer de próstata', 'câncer de ovário'), ('HOMEM', 'MULHER'), ('PRÍNCIPE', 'PRINCESA'), ('PRESIDENTE', 'PRESIDENTA'), ('filho', 'filha'), ('vô', 'vó'), ('EMPRESÁRIO', 'EMPRESÁRIA'), ('Dele', 'Dela'), ('irmão', 'irmã'), ('VEREADOR', 'VEREADORA'), ('PATERNIDADE', 'MATERNIDADE'), ('Pai', 'Mãe'), ('Meninos', 'Meninas'), ('ELE', 'ELA'), ('PAI', 'MÃE'), ('menino', 'menina'), ('reis', 'rainhas'), ('FILHO', 'FILHA'), ('filhos', 'filhas'), ('ex namorada', 'ex namorado'), ('macho', 'fêmea'), ('Padre', 'Freira'), ('Paternidade', 'Maternidade'), ('Próprio', 'Própria'), ('Filho', 'Filha'), ('PAIS', 'MÃES'), ('Rei', 'Rainha'), ('meninos', 'meninas'), ('VÔ', 'VÓ'), ('Menino', 'Menina'), ('homens', 'mulheres'), ('netos', 'netas'), ('Vô', 'Vó'), ('IRMÃO GÊMEO', 'IRMÃ GÊMEA'), ('CÂNCER DE PRÓSTATA', 'CÂNCER DE OVÁRIO'), ('homem', 'mulher'), ('Monastério', 'Convento'), ('MENINO', 'MENINA'), ('cavalheiros', 'damas'), ('Câncer De Próstata', 'Câncer De Ovário'), ('monastério', 'convento'), ('pais', 'mães'), ('Reis', 'Rainhas'), ('paternidade', 'maternidade'), ('Irmão Gêmeo', 'Irmã Gêmea'), ('HOMENS', 'MULHERES'), ('POTRO', 'POTRANCA'), ('Machos', 'Fêmeas'), ('Homem', 'Mulher'), ('Sobrinho', 'Sobrinha'), ('PADRE', 'FREIRA'), ('Esposas', 'Maridos'), ('Cavalheiro', 'Dama'), ('FILHOS', 'FILHAS'), ('testosterona', 'estrogênio'), ('Ex Namorada', 'Ex Namorado'), ('irmãos', 'irmãs'), ('ele', 'ela'), ('Vereador', 'Vereadora'), ('irmão gêmeo', 'irmã gêmea'), ('CAVALHEIROS', 'DAMAS'), ('próprio', 'própria'), ('príncipe', 'princesa'), ('rei', 'rainha'), ('neto', 'neta'), ('presidente', 'presidenta'), ('cavalheiro', 'dama'), ('pai', 'mãe'), ('potro', 'potranca'), ('aluno', 'aluna'), ('Empresário', 'Empresária'), ('Ele', 'Ela'), ('Presidente', 'Presidenta')}\n",
      "934966 words of dimension 300 : </s>, ,, de, ., ..., indispô-la, microquimerismo, matro, sentar-se-ia\n"
     ]
    },
    {
     "data": {
      "text/plain": [
       "([(-0.07209934, 'política'),\n",
       "  (-0.041331347, 'ajudante'),\n",
       "  (-0.033710137, 'enfermagem'),\n",
       "  (-0.022047535, 'arquitetura'),\n",
       "  (-0.0012875795, 'contabilidade'),\n",
       "  (0.0005612578, 'direito'),\n",
       "  (0.003926918, 'antropologia'),\n",
       "  (0.009626499, 'jornalismo'),\n",
       "  (0.01356739, 'arqueologia'),\n",
       "  (0.01749697, 'computação'),\n",
       "  (0.01879877, 'medicina'),\n",
       "  (0.021216288, 'design'),\n",
       "  (0.021800127, 'policial'),\n",
       "  (0.029092906, 'artes'),\n",
       "  (0.029878594, 'psicologia'),\n",
       "  (0.056874223, 'engenharia'),\n",
       "  (0.05791703, 'motorista')],\n",
       " [(-0.07209934, 'política'),\n",
       "  (-0.041331347, 'ajudante'),\n",
       "  (-0.033710137, 'enfermagem'),\n",
       "  (-0.022047535, 'arquitetura'),\n",
       "  (-0.0012875795, 'contabilidade'),\n",
       "  (0.0005612578, 'direito'),\n",
       "  (0.003926918, 'antropologia'),\n",
       "  (0.009626499, 'jornalismo'),\n",
       "  (0.01356739, 'arqueologia'),\n",
       "  (0.01749697, 'computação'),\n",
       "  (0.01879877, 'medicina'),\n",
       "  (0.021216288, 'design'),\n",
       "  (0.021800127, 'policial'),\n",
       "  (0.029092906, 'artes'),\n",
       "  (0.029878594, 'psicologia'),\n",
       "  (0.056874223, 'engenharia'),\n",
       "  (0.05791703, 'motorista')])"
      ]
     },
     "execution_count": 11,
     "metadata": {},
     "output_type": "execute_result"
    }
   ],
   "source": [
    "debias(E, gender_specific_words, defs, equalize_pairs)\n",
    "\n",
    "sp_debiased = sorted([(E.v(w).dot(v_gender), w) for w in profession_words])\n",
    "\n",
    "sp_debiased[0:20], sp_debiased[-20:]"
   ]
  },
  {
   "cell_type": "code",
   "execution_count": null,
   "metadata": {},
   "outputs": [],
   "source": []
  }
 ],
 "metadata": {
  "kernelspec": {
   "display_name": "Python 3",
   "language": "python",
   "name": "python3"
  }
 },
 "nbformat": 4,
 "nbformat_minor": 2
}
