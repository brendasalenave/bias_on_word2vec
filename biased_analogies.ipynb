{
 "cells": [
  {
   "cell_type": "code",
   "execution_count": 1,
   "metadata": {
    "scrolled": false
   },
   "outputs": [],
   "source": [
    "from gensim.models import KeyedVectors\n",
    "from debiaswe.we import WordEmbedding"
   ]
  },
  {
   "cell_type": "code",
   "execution_count": 2,
   "metadata": {},
   "outputs": [
    {
     "name": "stdout",
     "output_type": "stream",
     "text": [
      "*** Reading data from ./embeddings/cbow_s300.txt\n",
      "(934966, 300)\n",
      "934966 words of dimension 300 : </s>, ,, de, ., ..., indispô-la, microquimerismo, matro, sentar-se-ia\n",
      "saved\n"
     ]
    }
   ],
   "source": [
    "E = WordEmbedding('./embeddings/cbow_s300.txt')\n",
    "\n",
    "#model = KeyedVectors.load_word2vec_format('./embeddings/cbow_s300.txt', unicode_errors=\"ignore\")\n",
    "tmp_file='./data/temp.bin'\n",
    "E.save_w2v(tmp_file)\n",
    "print (\"saved\")\n",
    "from gensim.models import KeyedVectors\n",
    "tmp_file='./data/temp.bin'\n",
    "word_vectors = KeyedVectors.load_word2vec_format(tmp_file, binary=True)\n",
    "#cbow_s300.txt was obtained from http://www.nilc.icmc.usp.br/nilc/index.php/repositorio-de-word-embeddings-do-nilc"
   ]
  },
  {
   "cell_type": "markdown",
   "metadata": {},
   "source": [
    "### Extreme '*she*' analogies"
   ]
  },
  {
   "cell_type": "code",
   "execution_count": null,
   "metadata": {},
   "outputs": [],
   "source": [
    "#analogies_list = ['programador', 'maestro', 'capitão', 'favorecido', 'filósofo', 'capitão', 'arquiteto',\n",
    "#                  'financista', 'batalhador', 'radiodifusor', 'mágico']\n",
    "analogies_list = ['advogado', 'arquiteto', 'ator', 'bibliotecario', 'biologo', 'blogueiro', 'bombeiro', 'cabeleireiro', 'camareiro', 'cantor', 'consultor', 'contador', 'coordenador', 'coreografo', 'costureiro', 'cozinheiro', 'dançarino', 'decorador', 'diagramador', 'diretor', 'empresario', 'enfermeiro', 'engenheiro', 'escritor', 'estagiario', 'fotógrafo', 'garçom', 'historiador', 'instrutor', 'juiz', 'matemático', 'médico', 'pedagogo', 'pesquisador', 'pintor', 'professor', 'programador', 'promotor', 'psicopedagogo', 'psicologo', 'publicitario', 'secretario', 'senador', 'sociologo', 'sindico', 'tutor', 'vendedor', 'vereador', 'veterinario']\n",
    "\n",
    "\"\"\"for i in analogies_list:\n",
    "    x = model.wv.most_similar(positive=['mulher', i], negative=['homem'])\n",
    "    print(x[0])\n",
    "\"\"\" \n",
    "extreme_she = []\n",
    "for x in analogies_list:\n",
    "    if (x in word_vectors.vocab):\n",
    "        k = word_vectors.most_similar(positive=['ela', x], negative=['ele'])[0] \n",
    "        extreme_she.append((x,k[1],k[0]))\n",
    "        \n",
    "extreme_she.sort(key=lambda tup: tup[1])\n",
    "for x in reversed(extreme_she[-10:]):\n",
    "    print(x)"
   ]
  },
  {
   "cell_type": "markdown",
   "metadata": {},
   "source": [
    "### Extreme '*he*' analogies"
   ]
  },
  {
   "cell_type": "code",
   "execution_count": 17,
   "metadata": {
    "scrolled": true
   },
   "outputs": [
    {
     "name": "stdout",
     "output_type": "stream",
     "text": [
      "('atriz', 0.764740526676178, 'actriz')\n",
      "('dançarina', 0.7177250981330872, 'bailarina')\n",
      "('escritora', 0.6993600726127625, 'poetisa')\n",
      "('pesquisadora', 0.6962437629699707, 'psicóloga')\n",
      "('advogada', 0.6943382620811462, 'psicóloga')\n",
      "('enfermeira', 0.6818990111351013, 'menina')\n",
      "('garçonete', 0.6783669590950012, 'prostituta')\n",
      "('historiadora', 0.6748958826065063, 'pesquisadora')\n",
      "('coordenadora', 0.6704943180084229, 'diretora')\n",
      "('secretaria', 0.662160336971283, 'secretária')\n"
     ]
    }
   ],
   "source": [
    "analogies_list2 = ['advogada', 'arquiteta', 'atriz', 'bibliotecaria', 'biologa', 'blogueira', 'bombeira', 'cabeleireira', 'camareira', 'cantora', 'consultora', 'contadora', 'coordenadora', 'coreografa', 'costureira', 'cozinheira', 'dançarina', 'decoradora', 'diagramadora', 'diretora', 'empresaria', 'enfermeira', 'engenheira', 'escritora', 'estagiaria', 'fotógrafa', 'garçonete', 'historiadora', 'instrutora', 'juiza', 'matemática', 'médica', 'pedagoga', 'pesquisadora', 'pintora', 'professora', 'programadora' 'promotora', 'psicopedagoga', 'psicologa', 'publicitaria', 'secretaria', 'senadora', 'sociologa', 'sindica', 'tutora', 'vendedora', 'vereadora', 'veterinaria']\n",
    "#analogies_list2 = ['empregada', 'enfermeira', 'recepcionista', 'bibliotecário', 'socialite', 'cabeleireiro',\n",
    "#                  'babá', 'bibliotecária', 'estilista', 'governanta']\n",
    "\n",
    "\"\"\"\n",
    "for i in analogies_list2:\n",
    "    x = model.wv.most_similar(positive=['homem', i], negative=['mulher'])\n",
    "    print(x[0])\n",
    "\"\"\"\n",
    "extreme_he = []\n",
    "for x in analogies_list2:\n",
    "    if (x in word_vectors.vocab):\n",
    "        k = word_vectors.most_similar(positive=['ela', x], negative=['ele'])[0]\n",
    "        extreme_he.append((x,k[1],k[0]))\n",
    "        \n",
    "extreme_he.sort(key=lambda tup: tup[1])\n",
    "for x in reversed(extreme_he[-10:]):\n",
    "    print(x)"
   ]
  },
  {
   "cell_type": "markdown",
   "metadata": {},
   "source": [
    "### Gender stereotype *she-he* analogies"
   ]
  },
  {
   "cell_type": "code",
   "execution_count": 30,
   "metadata": {},
   "outputs": [
    {
     "name": "stderr",
     "output_type": "stream",
     "text": [
      "/usr/local/lib/python3.5/dist-packages/ipykernel_launcher.py:6: DeprecationWarning: Call to deprecated `wv` (Attribute will be removed in 4.0.0, use self instead).\n",
      "  \n"
     ]
    },
    {
     "name": "stdout",
     "output_type": "stream",
     "text": [
      "('enfermeira', 0.6641453504562378)\n",
      "('menina', 0.6194465756416321)\n",
      "('enfermeira', 0.586850643157959)\n",
      "('ex-namorada', 0.5054221153259277)\n",
      "('netinha', 0.5101796984672546)\n",
      "('encaracolado', 0.4908173978328705)\n",
      "('esposa', 0.4845566153526306)\n",
      "('floricultura', 0.45257633924484253)\n",
      "('musiquinha', 0.6528536081314087)\n",
      "('namorada', 0.5650132894515991)\n",
      "('garotinha', 0.5013715028762817)\n",
      "('irmã', 0.5114747285842896)\n",
      "('filha', 0.500595211982727)\n",
      "('filhinha', 0.49909549951553345)\n",
      "('namorada', 0.49393320083618164)\n",
      "('vovozinha', 0.5709583759307861)\n",
      "('garotinha', 0.5528486371040344)\n"
     ]
    }
   ],
   "source": [
    "analogies_list3 = ['costureira', 'enfermeira', 'empregada', 'designer', 'softball',\n",
    "                   'loiro', 'feminismo', 'cosméticos', 'risadinha', 'vocalista', 'pequena', 'atrevido',\n",
    "                   'divã', 'encantador', 'voleibol', 'cupcake', 'adorável']\n",
    "\n",
    "for i in analogies_list3:\n",
    "    x = model.wv.most_similar(positive=['mulher', i], negative=['homem'])\n",
    "    print(x[0])"
   ]
  },
  {
   "cell_type": "markdown",
   "metadata": {},
   "source": [
    "### Gender stereotype *she-he* analogies #2"
   ]
  },
  {
   "cell_type": "code",
   "execution_count": 29,
   "metadata": {},
   "outputs": [
    {
     "name": "stderr",
     "output_type": "stream",
     "text": [
      "/usr/local/lib/python3.5/dist-packages/ipykernel_launcher.py:6: DeprecationWarning: Call to deprecated `wv` (Attribute will be removed in 4.0.0, use self instead).\n",
      "  \n"
     ]
    },
    {
     "name": "stdout",
     "output_type": "stream",
     "text": [
      "('pescador', 0.4284946620464325)\n",
      "('rapaz', 0.4960455596446991)\n",
      "('ex-condenado', 0.5583392381668091)\n",
      "('pescador', 0.5098453760147095)\n",
      "('arquitecto', 0.5913637280464172)\n",
      "('basebol', 0.5264195203781128)\n",
      "('velhaco', 0.5031213760375977)\n",
      "('individualismo', 0.5890100002288818)\n",
      "('alqueno', 0.42654672265052795)\n",
      "('estremeção', 0.5454287528991699)\n",
      "('baterista', 0.6495031714439392)\n",
      "('esbelto', 0.4721893072128296)\n",
      "('velhaco', 0.5454205274581909)\n",
      "('célebre', 0.4897880256175995)\n",
      "('conversador', 0.5306400656700134)\n",
      "('râguebi', 0.476982980966568)\n",
      "('hambúrguer', 0.4559794068336487)\n",
      "('descompilador', 0.46436041593551636)\n"
     ]
    }
   ],
   "source": [
    "analogies_list4 = ['carpintaria', 'médico', 'lojista', 'cirurgião', 'arquiteto', 'beisebol', 'corpulento',\n",
    "                   'conservadorismo', 'fármacos', 'risada', 'guitarrista', 'esguio', 'mal-humorado', 'famoso',\n",
    "                   'afável', 'futebol', 'pizzas', 'brilhante']\n",
    "\n",
    "for i in analogies_list4:\n",
    "    x = model.wv.most_similar(positive=['homem', i], negative=['mulher'])\n",
    "    print(x[0])"
   ]
  }
 ],
 "metadata": {
  "kernelspec": {
   "display_name": "Python 3",
   "language": "python",
   "name": "python3"
  },
  "language_info": {
   "codemirror_mode": {
    "name": "ipython",
    "version": 3
   },
   "file_extension": ".py",
   "mimetype": "text/x-python",
   "name": "python",
   "nbconvert_exporter": "python",
   "pygments_lexer": "ipython3",
   "version": "3.6.4"
  }
 },
 "nbformat": 4,
 "nbformat_minor": 1
}
