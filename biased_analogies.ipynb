{
 "cells": [
  {
   "cell_type": "code",
   "execution_count": 2,
   "metadata": {
    "scrolled": false
   },
   "outputs": [],
   "source": [
    "from gensim.models import KeyedVectors\n",
    "model = KeyedVectors.load_word2vec_format('cbow_s300.txt', unicode_errors=\"ignore\")\n",
    "#cbow_s300.txt was obtained from http://www.nilc.icmc.usp.br/nilc/index.php/repositorio-de-word-embeddings-do-nilc"
   ]
  },
  {
   "cell_type": "markdown",
   "metadata": {},
   "source": [
    "### Extreme '*she*' analogies"
   ]
  },
  {
   "cell_type": "code",
   "execution_count": 3,
   "metadata": {},
   "outputs": [
    {
     "name": "stderr",
     "output_type": "stream",
     "text": [
      "/usr/local/lib/python3.5/dist-packages/ipykernel_launcher.py:5: DeprecationWarning: Call to deprecated `wv` (Attribute will be removed in 4.0.0, use self instead).\n",
      "  \"\"\"\n"
     ]
    },
    {
     "name": "stdout",
     "output_type": "stream",
     "text": [
      "('esposa', 0.505455493927002)\n",
      "('esposa', 0.491010457277298)\n",
      "('namorada', 0.5153748989105225)\n",
      "('irmã', 0.427707701921463)\n",
      "('esposa', 0.502643883228302)\n",
      "('namorada', 0.5153748989105225)\n",
      "('esposa', 0.4904506206512451)\n",
      "('esposa', 0.49812793731689453)\n",
      "('irmã', 0.5471838712692261)\n",
      "('esposa', 0.4697522521018982)\n",
      "('irmã', 0.46118614077568054)\n"
     ]
    }
   ],
   "source": [
    "analogies_list = ['programador', 'maestro', 'capitão', 'favorecido', 'filósofo', 'capitão', 'arquiteto',\n",
    "                  'financista', 'batalhador', 'radiodifusor', 'mágico']\n",
    "\n",
    "for i in analogies_list:\n",
    "    x = model.wv.most_similar(positive=['mulher', i], negative=['homem'])\n",
    "    print(x[0])\n",
    "    "
   ]
  },
  {
   "cell_type": "markdown",
   "metadata": {},
   "source": [
    "### Extreme '*he*' analogies"
   ]
  },
  {
   "cell_type": "code",
   "execution_count": 27,
   "metadata": {
    "scrolled": true
   },
   "outputs": [
    {
     "name": "stdout",
     "output_type": "stream",
     "text": [
      "('rapaz', 0.4703604578971863)\n"
     ]
    },
    {
     "name": "stderr",
     "output_type": "stream",
     "text": [
      "/usr/local/lib/python3.5/dist-packages/ipykernel_launcher.py:5: DeprecationWarning: Call to deprecated `wv` (Attribute will be removed in 4.0.0, use self instead).\n",
      "  \"\"\"\n"
     ]
    },
    {
     "name": "stdout",
     "output_type": "stream",
     "text": [
      "('rapaz', 0.6060482263565063)\n",
      "('rapaz', 0.5892372131347656)\n",
      "('descompilador', 0.5055179595947266)\n",
      "('rapaz', 0.4928818941116333)\n",
      "('bufete', 0.5560623407363892)\n",
      "('mendigo', 0.5588334798812866)\n",
      "('rapaz', 0.5139126777648926)\n",
      "('empresário', 0.5490709543228149)\n",
      "('rapaz', 0.5706930756568909)\n"
     ]
    }
   ],
   "source": [
    "analogies_list2 = ['empregada', 'enfermeira', 'recepcionista', 'bibliotecário', 'socialite', 'cabeleireiro',\n",
    "                  'babá', 'bibliotecária', 'estilista', 'governanta']\n",
    "\n",
    "for i in analogies_list2:\n",
    "    x = model.wv.most_similar(positive=['homem', i], negative=['mulher'])\n",
    "    print(x[0])"
   ]
  },
  {
   "cell_type": "markdown",
   "metadata": {},
   "source": [
    "### Gender stereotype *she-he* analogies"
   ]
  },
  {
   "cell_type": "code",
   "execution_count": 30,
   "metadata": {},
   "outputs": [
    {
     "name": "stderr",
     "output_type": "stream",
     "text": [
      "/usr/local/lib/python3.5/dist-packages/ipykernel_launcher.py:6: DeprecationWarning: Call to deprecated `wv` (Attribute will be removed in 4.0.0, use self instead).\n",
      "  \n"
     ]
    },
    {
     "name": "stdout",
     "output_type": "stream",
     "text": [
      "('enfermeira', 0.6641453504562378)\n",
      "('menina', 0.6194465756416321)\n",
      "('enfermeira', 0.586850643157959)\n",
      "('ex-namorada', 0.5054221153259277)\n",
      "('netinha', 0.5101796984672546)\n",
      "('encaracolado', 0.4908173978328705)\n",
      "('esposa', 0.4845566153526306)\n",
      "('floricultura', 0.45257633924484253)\n",
      "('musiquinha', 0.6528536081314087)\n",
      "('namorada', 0.5650132894515991)\n",
      "('garotinha', 0.5013715028762817)\n",
      "('irmã', 0.5114747285842896)\n",
      "('filha', 0.500595211982727)\n",
      "('filhinha', 0.49909549951553345)\n",
      "('namorada', 0.49393320083618164)\n",
      "('vovozinha', 0.5709583759307861)\n",
      "('garotinha', 0.5528486371040344)\n"
     ]
    }
   ],
   "source": [
    "analogies_list3 = ['costureira', 'enfermeira', 'empregada', 'designer', 'softball',\n",
    "                   'loiro', 'feminismo', 'cosméticos', 'risadinha', 'vocalista', 'pequena', 'atrevido',\n",
    "                   'divã', 'encantador', 'voleibol', 'cupcake', 'adorável']\n",
    "\n",
    "for i in analogies_list3:\n",
    "    x = model.wv.most_similar(positive=['mulher', i], negative=['homem'])\n",
    "    print(x[0])"
   ]
  },
  {
   "cell_type": "markdown",
   "metadata": {},
   "source": [
    "### Gender stereotype *she-he* analogies #2"
   ]
  },
  {
   "cell_type": "code",
   "execution_count": 29,
   "metadata": {},
   "outputs": [
    {
     "name": "stderr",
     "output_type": "stream",
     "text": [
      "/usr/local/lib/python3.5/dist-packages/ipykernel_launcher.py:6: DeprecationWarning: Call to deprecated `wv` (Attribute will be removed in 4.0.0, use self instead).\n",
      "  \n"
     ]
    },
    {
     "name": "stdout",
     "output_type": "stream",
     "text": [
      "('pescador', 0.4284946620464325)\n",
      "('rapaz', 0.4960455596446991)\n",
      "('ex-condenado', 0.5583392381668091)\n",
      "('pescador', 0.5098453760147095)\n",
      "('arquitecto', 0.5913637280464172)\n",
      "('basebol', 0.5264195203781128)\n",
      "('velhaco', 0.5031213760375977)\n",
      "('individualismo', 0.5890100002288818)\n",
      "('alqueno', 0.42654672265052795)\n",
      "('estremeção', 0.5454287528991699)\n",
      "('baterista', 0.6495031714439392)\n",
      "('esbelto', 0.4721893072128296)\n",
      "('velhaco', 0.5454205274581909)\n",
      "('célebre', 0.4897880256175995)\n",
      "('conversador', 0.5306400656700134)\n",
      "('râguebi', 0.476982980966568)\n",
      "('hambúrguer', 0.4559794068336487)\n",
      "('descompilador', 0.46436041593551636)\n"
     ]
    }
   ],
   "source": [
    "analogies_list4 = ['carpintaria', 'médico', 'lojista', 'cirurgião', 'arquiteto', 'beisebol', 'corpulento',\n",
    "                   'conservadorismo', 'fármacos', 'risada', 'guitarrista', 'esguio', 'mal-humorado', 'famoso',\n",
    "                   'afável', 'futebol', 'pizzas', 'brilhante']\n",
    "\n",
    "for i in analogies_list4:\n",
    "    x = model.wv.most_similar(positive=['homem', i], negative=['mulher'])\n",
    "    print(x[0])"
   ]
  }
 ],
 "metadata": {
  "kernelspec": {
   "display_name": "Python 3",
   "language": "python",
   "name": "python3"
  },
  "language_info": {
   "codemirror_mode": {
    "name": "ipython",
    "version": 3
   },
   "file_extension": ".py",
   "mimetype": "text/x-python",
   "name": "python",
   "nbconvert_exporter": "python",
   "pygments_lexer": "ipython3",
   "version": "3.5.2"
  }
 },
 "nbformat": 4,
 "nbformat_minor": 1
}
