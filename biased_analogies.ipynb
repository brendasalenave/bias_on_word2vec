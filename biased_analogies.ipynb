{
 "cells": [
  {
   "cell_type": "code",
   "execution_count": 4,
   "metadata": {
    "collapsed": false
   },
   "outputs": [],
   "source": [
    "from gensim.models import KeyedVectors\n",
    "model = KeyedVectors.load_word2vec_format('cbow_s300.txt', unicode_errors=\"ignore\")\n",
    "#cbow_s300.txt was obtained from http://www.nilc.icmc.usp.br/nilc/index.php/repositorio-de-word-embeddings-do-nilc"
   ]
  },
  {
   "cell_type": "code",
   "execution_count": 6,
   "metadata": {
    "collapsed": false
   },
   "outputs": [
    {
     "data": {
      "text/plain": [
       "[(u'esposa', 0.48130765557289124),\n",
       " (u'm\\xe3e', 0.4686643183231354),\n",
       " (u'ex-namorada', 0.4571297764778137),\n",
       " (u'madrasta', 0.45033419132232666),\n",
       " (u'nora', 0.43120115995407104),\n",
       " (u'ex-aluna', 0.4298376441001892),\n",
       " (u'namorada', 0.4284040927886963),\n",
       " (u'enfermeira', 0.42833513021469116),\n",
       " (u'irm\\xe3', 0.42441272735595703),\n",
       " (u'filha', 0.4236536920070648)]"
      ]
     },
     "execution_count": 6,
     "metadata": {},
     "output_type": "execute_result"
    }
   ],
   "source": [
    "model.wv.most_similar(positive=['mulher', 'programador'], negative=['homen'])"
   ]
  }
 ],
 "metadata": {
  "kernelspec": {
   "display_name": "Python 2",
   "language": "python",
   "name": "python2"
  },
  "language_info": {
   "codemirror_mode": {
    "name": "ipython",
    "version": 2
   },
   "file_extension": ".py",
   "mimetype": "text/x-python",
   "name": "python",
   "nbconvert_exporter": "python",
   "pygments_lexer": "ipython2",
   "version": "2.7.11"
  }
 },
 "nbformat": 4,
 "nbformat_minor": 0
}
